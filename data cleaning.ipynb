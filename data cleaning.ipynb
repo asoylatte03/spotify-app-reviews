{
 "cells": [
  {
   "cell_type": "code",
   "execution_count": 2,
   "id": "23b268f8",
   "metadata": {},
   "outputs": [],
   "source": [
    "# imports\n",
    "import pandas as pd\n",
    "import numpy as np"
   ]
  },
  {
   "cell_type": "code",
   "execution_count": 3,
   "id": "091037ce",
   "metadata": {},
   "outputs": [],
   "source": [
    "spotify_df = pd.read_csv('data/reviews.csv',usecols=['Review','Rating', 'Total_thumbsup', 'Reply'])\n",
    "spotify_df = spotify_df.rename(columns={'Review':'review', \n",
    "                           'Rating':'rating',\n",
    "                           'Total_thumbsup':'total_thumbs_up',\n",
    "                           'Reply':'reply'})"
   ]
  },
  {
   "cell_type": "code",
   "execution_count": 4,
   "id": "382870a4",
   "metadata": {},
   "outputs": [],
   "source": [
    "import nltk\n",
    "from nltk.probability import FreqDist\n",
    "from nltk.corpus import stopwords\n",
    "from nltk.tokenize import regexp_tokenize, word_tokenize, RegexpTokenizer\n",
    "import matplotlib.pyplot as plt\n",
    "import string\n",
    "import re\n",
    "import numpy as np"
   ]
  },
  {
   "cell_type": "code",
   "execution_count": 5,
   "id": "5447c954",
   "metadata": {},
   "outputs": [],
   "source": [
    "from nltk.tokenize import word_tokenize \n",
    "from nltk.tokenize import sent_tokenize "
   ]
  },
  {
   "cell_type": "code",
   "execution_count": 6,
   "id": "b34d319e",
   "metadata": {},
   "outputs": [],
   "source": [
    "import itertools"
   ]
  },
  {
   "cell_type": "code",
   "execution_count": 7,
   "id": "8f29cd60",
   "metadata": {},
   "outputs": [],
   "source": [
    "from nltk.corpus import stopwords"
   ]
  },
  {
   "cell_type": "code",
   "execution_count": 8,
   "id": "d1f40056",
   "metadata": {},
   "outputs": [],
   "source": [
    "from nltk import WordNetLemmatizer # lemmatizer using WordNet\n",
    "from nltk.corpus import wordnet # imports WordNet\n",
    "from nltk import pos_tag # nltk's native part of speech tagging"
   ]
  },
  {
   "cell_type": "code",
   "execution_count": 9,
   "id": "50e12ae5",
   "metadata": {},
   "outputs": [
    {
     "data": {
      "text/html": [
       "<div>\n",
       "<style scoped>\n",
       "    .dataframe tbody tr th:only-of-type {\n",
       "        vertical-align: middle;\n",
       "    }\n",
       "\n",
       "    .dataframe tbody tr th {\n",
       "        vertical-align: top;\n",
       "    }\n",
       "\n",
       "    .dataframe thead th {\n",
       "        text-align: right;\n",
       "    }\n",
       "</style>\n",
       "<table border=\"1\" class=\"dataframe\">\n",
       "  <thead>\n",
       "    <tr style=\"text-align: right;\">\n",
       "      <th></th>\n",
       "      <th>review</th>\n",
       "      <th>rating</th>\n",
       "      <th>total_thumbs_up</th>\n",
       "      <th>reply</th>\n",
       "    </tr>\n",
       "  </thead>\n",
       "  <tbody>\n",
       "    <tr>\n",
       "      <th>0</th>\n",
       "      <td>Great music service, the audio is high quality...</td>\n",
       "      <td>5</td>\n",
       "      <td>2</td>\n",
       "      <td>NaN</td>\n",
       "    </tr>\n",
       "    <tr>\n",
       "      <th>1</th>\n",
       "      <td>Please ignore previous negative rating. This a...</td>\n",
       "      <td>5</td>\n",
       "      <td>1</td>\n",
       "      <td>NaN</td>\n",
       "    </tr>\n",
       "    <tr>\n",
       "      <th>2</th>\n",
       "      <td>This pop-up \"Get the best Spotify experience o...</td>\n",
       "      <td>4</td>\n",
       "      <td>0</td>\n",
       "      <td>NaN</td>\n",
       "    </tr>\n",
       "    <tr>\n",
       "      <th>3</th>\n",
       "      <td>Really buggy and terrible to use as of recently</td>\n",
       "      <td>1</td>\n",
       "      <td>1</td>\n",
       "      <td>NaN</td>\n",
       "    </tr>\n",
       "    <tr>\n",
       "      <th>4</th>\n",
       "      <td>Dear Spotify why do I get songs that I didn't ...</td>\n",
       "      <td>1</td>\n",
       "      <td>1</td>\n",
       "      <td>NaN</td>\n",
       "    </tr>\n",
       "  </tbody>\n",
       "</table>\n",
       "</div>"
      ],
      "text/plain": [
       "                                              review  rating  total_thumbs_up  \\\n",
       "0  Great music service, the audio is high quality...       5                2   \n",
       "1  Please ignore previous negative rating. This a...       5                1   \n",
       "2  This pop-up \"Get the best Spotify experience o...       4                0   \n",
       "3    Really buggy and terrible to use as of recently       1                1   \n",
       "4  Dear Spotify why do I get songs that I didn't ...       1                1   \n",
       "\n",
       "  reply  \n",
       "0   NaN  \n",
       "1   NaN  \n",
       "2   NaN  \n",
       "3   NaN  \n",
       "4   NaN  "
      ]
     },
     "execution_count": 9,
     "metadata": {},
     "output_type": "execute_result"
    }
   ],
   "source": [
    "spotify_df.head()"
   ]
  },
  {
   "cell_type": "code",
   "execution_count": 10,
   "id": "9a3da5be",
   "metadata": {},
   "outputs": [
    {
     "name": "stdout",
     "output_type": "stream",
     "text": [
      "<class 'pandas.core.frame.DataFrame'>\n",
      "RangeIndex: 61594 entries, 0 to 61593\n",
      "Data columns (total 4 columns):\n",
      " #   Column           Non-Null Count  Dtype \n",
      "---  ------           --------------  ----- \n",
      " 0   review           61594 non-null  object\n",
      " 1   rating           61594 non-null  int64 \n",
      " 2   total_thumbs_up  61594 non-null  int64 \n",
      " 3   reply            216 non-null    object\n",
      "dtypes: int64(2), object(2)\n",
      "memory usage: 1.9+ MB\n"
     ]
    }
   ],
   "source": [
    "spotify_df.info()"
   ]
  },
  {
   "cell_type": "markdown",
   "id": "4c03e4b1",
   "metadata": {},
   "source": [
    "no NaN values in `review` column"
   ]
  },
  {
   "cell_type": "code",
   "execution_count": 11,
   "id": "71dce962",
   "metadata": {},
   "outputs": [
    {
     "data": {
      "text/plain": [
       "'\\n0 = did not reply \\n1 = replied\\n'"
      ]
     },
     "execution_count": 11,
     "metadata": {},
     "output_type": "execute_result"
    }
   ],
   "source": [
    "# generating a new column that maps whether Spotify replied or not \n",
    "spotify_df['replied'] = spotify_df['reply'].notna().astype(int)\n",
    "'''\n",
    "0 = did not reply \n",
    "1 = replied\n",
    "'''"
   ]
  },
  {
   "cell_type": "code",
   "execution_count": 12,
   "id": "93ec4b64",
   "metadata": {},
   "outputs": [
    {
     "data": {
      "text/html": [
       "<div>\n",
       "<style scoped>\n",
       "    .dataframe tbody tr th:only-of-type {\n",
       "        vertical-align: middle;\n",
       "    }\n",
       "\n",
       "    .dataframe tbody tr th {\n",
       "        vertical-align: top;\n",
       "    }\n",
       "\n",
       "    .dataframe thead th {\n",
       "        text-align: right;\n",
       "    }\n",
       "</style>\n",
       "<table border=\"1\" class=\"dataframe\">\n",
       "  <thead>\n",
       "    <tr style=\"text-align: right;\">\n",
       "      <th></th>\n",
       "      <th>review</th>\n",
       "      <th>rating</th>\n",
       "      <th>total_thumbs_up</th>\n",
       "      <th>reply</th>\n",
       "      <th>replied</th>\n",
       "    </tr>\n",
       "  </thead>\n",
       "  <tbody>\n",
       "    <tr>\n",
       "      <th>73</th>\n",
       "      <td>Great song selection, amazing audio quality. H...</td>\n",
       "      <td>3</td>\n",
       "      <td>8</td>\n",
       "      <td>Hey, thanks for the feedback! We'd love to hel...</td>\n",
       "      <td>1</td>\n",
       "    </tr>\n",
       "    <tr>\n",
       "      <th>699</th>\n",
       "      <td>Seems like the random stopping of music has be...</td>\n",
       "      <td>4</td>\n",
       "      <td>4</td>\n",
       "      <td>Hey, thanks for the report. If you haven't tri...</td>\n",
       "      <td>1</td>\n",
       "    </tr>\n",
       "    <tr>\n",
       "      <th>1151</th>\n",
       "      <td>They would add their songs to MY PLAYLIST! I c...</td>\n",
       "      <td>1</td>\n",
       "      <td>1</td>\n",
       "      <td>Hey, thanks for the feedback! You can always a...</td>\n",
       "      <td>1</td>\n",
       "    </tr>\n",
       "    <tr>\n",
       "      <th>1277</th>\n",
       "      <td>I paid last month for Premium Family &amp; my wife...</td>\n",
       "      <td>5</td>\n",
       "      <td>0</td>\n",
       "      <td>Hi James! We’re sorry to hear that. We’d love ...</td>\n",
       "      <td>1</td>\n",
       "    </tr>\n",
       "    <tr>\n",
       "      <th>1668</th>\n",
       "      <td>I really don't care about the random pauses in...</td>\n",
       "      <td>3</td>\n",
       "      <td>0</td>\n",
       "      <td>Hi again. If you haven't tried Premium yet, we...</td>\n",
       "      <td>1</td>\n",
       "    </tr>\n",
       "    <tr>\n",
       "      <th>...</th>\n",
       "      <td>...</td>\n",
       "      <td>...</td>\n",
       "      <td>...</td>\n",
       "      <td>...</td>\n",
       "      <td>...</td>\n",
       "    </tr>\n",
       "    <tr>\n",
       "      <th>61116</th>\n",
       "      <td>Why can't you skip back without premium? Spoti...</td>\n",
       "      <td>4</td>\n",
       "      <td>3</td>\n",
       "      <td>Hey! Have you tried restarting your device or ...</td>\n",
       "      <td>1</td>\n",
       "    </tr>\n",
       "    <tr>\n",
       "      <th>61257</th>\n",
       "      <td>Ads are fine, if anything they're a necessity....</td>\n",
       "      <td>1</td>\n",
       "      <td>5</td>\n",
       "      <td>Hey, thanks for the feedback. Suggested tracks...</td>\n",
       "      <td>1</td>\n",
       "    </tr>\n",
       "    <tr>\n",
       "      <th>61374</th>\n",
       "      <td>Considering stopping my subscription due to th...</td>\n",
       "      <td>1</td>\n",
       "      <td>0</td>\n",
       "      <td>Hey! We'd love to help get this fixed. If you ...</td>\n",
       "      <td>1</td>\n",
       "    </tr>\n",
       "    <tr>\n",
       "      <th>61397</th>\n",
       "      <td>I am 100% sure this is the worst music app I e...</td>\n",
       "      <td>3</td>\n",
       "      <td>0</td>\n",
       "      <td>Hey! We're sorry to hear you feel that way abo...</td>\n",
       "      <td>1</td>\n",
       "    </tr>\n",
       "    <tr>\n",
       "      <th>61431</th>\n",
       "      <td>The app lies. I tried listening to an ad to ge...</td>\n",
       "      <td>1</td>\n",
       "      <td>1</td>\n",
       "      <td>Hey there. Just to check, did you keep the vid...</td>\n",
       "      <td>1</td>\n",
       "    </tr>\n",
       "  </tbody>\n",
       "</table>\n",
       "<p>216 rows × 5 columns</p>\n",
       "</div>"
      ],
      "text/plain": [
       "                                                  review  rating  \\\n",
       "73     Great song selection, amazing audio quality. H...       3   \n",
       "699    Seems like the random stopping of music has be...       4   \n",
       "1151   They would add their songs to MY PLAYLIST! I c...       1   \n",
       "1277   I paid last month for Premium Family & my wife...       5   \n",
       "1668   I really don't care about the random pauses in...       3   \n",
       "...                                                  ...     ...   \n",
       "61116  Why can't you skip back without premium? Spoti...       4   \n",
       "61257  Ads are fine, if anything they're a necessity....       1   \n",
       "61374  Considering stopping my subscription due to th...       1   \n",
       "61397  I am 100% sure this is the worst music app I e...       3   \n",
       "61431  The app lies. I tried listening to an ad to ge...       1   \n",
       "\n",
       "       total_thumbs_up                                              reply  \\\n",
       "73                   8  Hey, thanks for the feedback! We'd love to hel...   \n",
       "699                  4  Hey, thanks for the report. If you haven't tri...   \n",
       "1151                 1  Hey, thanks for the feedback! You can always a...   \n",
       "1277                 0  Hi James! We’re sorry to hear that. We’d love ...   \n",
       "1668                 0  Hi again. If you haven't tried Premium yet, we...   \n",
       "...                ...                                                ...   \n",
       "61116                3  Hey! Have you tried restarting your device or ...   \n",
       "61257                5  Hey, thanks for the feedback. Suggested tracks...   \n",
       "61374                0  Hey! We'd love to help get this fixed. If you ...   \n",
       "61397                0  Hey! We're sorry to hear you feel that way abo...   \n",
       "61431                1  Hey there. Just to check, did you keep the vid...   \n",
       "\n",
       "       replied  \n",
       "73           1  \n",
       "699          1  \n",
       "1151         1  \n",
       "1277         1  \n",
       "1668         1  \n",
       "...        ...  \n",
       "61116        1  \n",
       "61257        1  \n",
       "61374        1  \n",
       "61397        1  \n",
       "61431        1  \n",
       "\n",
       "[216 rows x 5 columns]"
      ]
     },
     "execution_count": 12,
     "metadata": {},
     "output_type": "execute_result"
    }
   ],
   "source": [
    "# viewing updated df and records where reply == True \n",
    "spotify_df[spotify_df.replied == 1]"
   ]
  },
  {
   "cell_type": "code",
   "execution_count": 13,
   "id": "3188d66f",
   "metadata": {},
   "outputs": [
    {
     "data": {
      "text/plain": [
       "0        great music service, the audio is high quality...\n",
       "1        please ignore previous negative rating. this a...\n",
       "2        this pop-up \"get the best spotify experience o...\n",
       "3          really buggy and terrible to use as of recently\n",
       "4        dear spotify why do i get songs that i didn't ...\n",
       "                               ...                        \n",
       "61589    even though it was communicated that lyrics fe...\n",
       "61590    use to be sooo good back when i had it, and wh...\n",
       "61591    this app would be good if not for it taking ov...\n",
       "61592    the app is good hard to navigate and won't jus...\n",
       "61593    its good but sometimes it doesnt load the musi...\n",
       "Name: review, Length: 61594, dtype: object"
      ]
     },
     "execution_count": 13,
     "metadata": {},
     "output_type": "execute_result"
    }
   ],
   "source": [
    "# converting all review text to lowercase to normalize text \n",
    "spotify_df.review = spotify_df.review.str.lower()\n",
    "spotify_df.review"
   ]
  },
  {
   "cell_type": "code",
   "execution_count": 14,
   "id": "8aa74ac1",
   "metadata": {},
   "outputs": [
    {
     "data": {
      "text/plain": [
       "'great music service, the audio is high quality and the app is easy to use. also very quick and friendly support.'"
      ]
     },
     "execution_count": 14,
     "metadata": {},
     "output_type": "execute_result"
    }
   ],
   "source": [
    "first_review = spotify_df.review.iloc[0]\n",
    "first_review"
   ]
  },
  {
   "cell_type": "code",
   "execution_count": 15,
   "id": "a4ed2a85",
   "metadata": {},
   "outputs": [
    {
     "name": "stdout",
     "output_type": "stream",
     "text": [
      "word tokenized method:\n",
      "['great', 'music', 'service', ',', 'the', 'audio', 'is', 'high', 'quality', 'and', 'the', 'app', 'is', 'easy', 'to', 'use', '.', 'also', 'very', 'quick', 'and', 'friendly', 'support', '.']\n",
      "\n",
      "\n",
      "sentence tokenizer method:\n",
      "['great music service, the audio is high quality and the app is easy to use.', 'also very quick and friendly support.']\n"
     ]
    }
   ],
   "source": [
    "# seeing different tokenizing methods \n",
    "print('word tokenized method:')\n",
    "print(word_tokenize(first_review,language='english'))\n",
    "print('\\n')\n",
    "print('sentence tokenizer method:')\n",
    "print(sent_tokenize(first_review,language='english'))"
   ]
  },
  {
   "cell_type": "code",
   "execution_count": 16,
   "id": "1a429058",
   "metadata": {},
   "outputs": [
    {
     "name": "stdout",
     "output_type": "stream",
     "text": [
      "[['great', 'music', 'service', ',', 'the', 'audio', 'is', 'high', 'quality', 'and', 'the', 'app', 'is', 'easy', 'to', 'use', '.'], ['also', 'very', 'quick', 'and', 'friendly', 'support', '.']]\n"
     ]
    }
   ],
   "source": [
    "# tokenized word in each sentence \n",
    "print([word_tokenize(sent) for sent in sent_tokenize(first_review)])"
   ]
  },
  {
   "cell_type": "code",
   "execution_count": 17,
   "id": "007968c0",
   "metadata": {},
   "outputs": [
    {
     "name": "stdout",
     "output_type": "stream",
     "text": [
      "[['great', 'music', 'service', ',', 'the', 'audio', 'is', 'high', 'quality', 'and', 'the', 'app', 'is', 'easy', 'to', 'use', '.', 'also', 'very', 'quick', 'and', 'friendly', 'support', '.'], ['please', 'ignore', 'previous', 'negative', 'rating', '.', 'this', 'app', 'is', 'super', 'great', '.', 'i', 'give', 'it', 'five', 'stars+'], ['this', 'pop-up', '``', 'get', 'the', 'best', 'spotify', 'experience', 'on', 'android', '12', \"''\", 'is', 'too', 'annoying', '.', 'please', 'let', \"'s\", 'get', 'rid', 'of', 'this', '.'], ['really', 'buggy', 'and', 'terrible', 'to', 'use', 'as', 'of', 'recently']]\n"
     ]
    }
   ],
   "source": [
    "# tokenizing word \n",
    "corpus = [word_tokenize(review) for review in spotify_df.review]\n",
    "print(corpus[0:4])"
   ]
  },
  {
   "cell_type": "code",
   "execution_count": 18,
   "id": "e882fd9a",
   "metadata": {},
   "outputs": [],
   "source": [
    "stop_words = stopwords.words('english')"
   ]
  },
  {
   "cell_type": "code",
   "execution_count": 19,
   "id": "c7f0429e",
   "metadata": {},
   "outputs": [],
   "source": [
    "# takes in untokenized document and returns fully normalized token list\n",
    "def process_doc(doc):\n",
    "\n",
    "    #initialize lemmatizer\n",
    "    wnl = WordNetLemmatizer()\n",
    "\n",
    "    # helper function to change nltk's part of speech tagging to a wordnet format.\n",
    "    def pos_tagger(nltk_tag):\n",
    "        if nltk_tag.startswith('J'):\n",
    "            return wordnet.ADJ\n",
    "        elif nltk_tag.startswith('V'):\n",
    "            return wordnet.VERB\n",
    "        elif nltk_tag.startswith('N'):\n",
    "            return wordnet.NOUN\n",
    "        elif nltk_tag.startswith('R'):\n",
    "            return wordnet.ADV\n",
    "        else:         \n",
    "            return None\n",
    "        \n",
    "    # remove stop words and punctuations, then lower case\n",
    "    doc_norm = [tok.lower() for tok in word_tokenize(doc) if ((tok.isalpha()) & (tok.lower() not in stop_words)) ]\n",
    "\n",
    "    #  POS detection on the result will be important in telling Wordnet's lemmatizer how to lemmatize\n",
    "    \n",
    "    # creates list of tuples with tokens and POS tags in wordnet format\n",
    "    wordnet_tagged = list(map(lambda x: (x[0], pos_tagger(x[1])), pos_tag(doc_norm))) \n",
    "    doc_norm = [wnl.lemmatize(token, pos) for token, pos in wordnet_tagged if pos is not None]\n",
    "    \n",
    "    return doc_norm"
   ]
  },
  {
   "cell_type": "code",
   "execution_count": 20,
   "id": "accb9b61",
   "metadata": {
    "scrolled": true
   },
   "outputs": [
    {
     "data": {
      "text/plain": [
       "['great',\n",
       " 'music',\n",
       " 'service',\n",
       " 'audio',\n",
       " 'high',\n",
       " 'quality',\n",
       " 'app',\n",
       " 'easy',\n",
       " 'use',\n",
       " 'also',\n",
       " 'quick',\n",
       " 'friendly',\n",
       " 'support']"
      ]
     },
     "execution_count": 20,
     "metadata": {},
     "output_type": "execute_result"
    }
   ],
   "source": [
    "# using function on first review \n",
    "process_doc(first_review)"
   ]
  },
  {
   "cell_type": "code",
   "execution_count": 21,
   "id": "17a08516",
   "metadata": {},
   "outputs": [],
   "source": [
    "spotify_df['process_tok'] = spotify_df.review.apply(process_doc)"
   ]
  },
  {
   "cell_type": "code",
   "execution_count": 22,
   "id": "f7328376",
   "metadata": {},
   "outputs": [
    {
     "data": {
      "text/html": [
       "<div>\n",
       "<style scoped>\n",
       "    .dataframe tbody tr th:only-of-type {\n",
       "        vertical-align: middle;\n",
       "    }\n",
       "\n",
       "    .dataframe tbody tr th {\n",
       "        vertical-align: top;\n",
       "    }\n",
       "\n",
       "    .dataframe thead th {\n",
       "        text-align: right;\n",
       "    }\n",
       "</style>\n",
       "<table border=\"1\" class=\"dataframe\">\n",
       "  <thead>\n",
       "    <tr style=\"text-align: right;\">\n",
       "      <th></th>\n",
       "      <th>review</th>\n",
       "      <th>rating</th>\n",
       "      <th>total_thumbs_up</th>\n",
       "      <th>reply</th>\n",
       "      <th>replied</th>\n",
       "      <th>process_tok</th>\n",
       "    </tr>\n",
       "  </thead>\n",
       "  <tbody>\n",
       "    <tr>\n",
       "      <th>0</th>\n",
       "      <td>great music service, the audio is high quality...</td>\n",
       "      <td>5</td>\n",
       "      <td>2</td>\n",
       "      <td>NaN</td>\n",
       "      <td>0</td>\n",
       "      <td>[great, music, service, audio, high, quality, ...</td>\n",
       "    </tr>\n",
       "    <tr>\n",
       "      <th>1</th>\n",
       "      <td>please ignore previous negative rating. this a...</td>\n",
       "      <td>5</td>\n",
       "      <td>1</td>\n",
       "      <td>NaN</td>\n",
       "      <td>0</td>\n",
       "      <td>[please, ignore, previous, negative, rating, a...</td>\n",
       "    </tr>\n",
       "    <tr>\n",
       "      <th>2</th>\n",
       "      <td>this pop-up \"get the best spotify experience o...</td>\n",
       "      <td>4</td>\n",
       "      <td>0</td>\n",
       "      <td>NaN</td>\n",
       "      <td>0</td>\n",
       "      <td>[get, best, spotify, experience, android, anno...</td>\n",
       "    </tr>\n",
       "    <tr>\n",
       "      <th>3</th>\n",
       "      <td>really buggy and terrible to use as of recently</td>\n",
       "      <td>1</td>\n",
       "      <td>1</td>\n",
       "      <td>NaN</td>\n",
       "      <td>0</td>\n",
       "      <td>[really, buggy, terrible, use, recently]</td>\n",
       "    </tr>\n",
       "    <tr>\n",
       "      <th>4</th>\n",
       "      <td>dear spotify why do i get songs that i didn't ...</td>\n",
       "      <td>1</td>\n",
       "      <td>1</td>\n",
       "      <td>NaN</td>\n",
       "      <td>0</td>\n",
       "      <td>[dear, spotify, get, song, put, playlist, shuf...</td>\n",
       "    </tr>\n",
       "    <tr>\n",
       "      <th>...</th>\n",
       "      <td>...</td>\n",
       "      <td>...</td>\n",
       "      <td>...</td>\n",
       "      <td>...</td>\n",
       "      <td>...</td>\n",
       "      <td>...</td>\n",
       "    </tr>\n",
       "    <tr>\n",
       "      <th>61589</th>\n",
       "      <td>even though it was communicated that lyrics fe...</td>\n",
       "      <td>1</td>\n",
       "      <td>6</td>\n",
       "      <td>NaN</td>\n",
       "      <td>0</td>\n",
       "      <td>[even, communicate, lyric, feature, available,...</td>\n",
       "    </tr>\n",
       "    <tr>\n",
       "      <th>61590</th>\n",
       "      <td>use to be sooo good back when i had it, and wh...</td>\n",
       "      <td>1</td>\n",
       "      <td>0</td>\n",
       "      <td>NaN</td>\n",
       "      <td>0</td>\n",
       "      <td>[use, sooo, good, back, download, free, versio...</td>\n",
       "    </tr>\n",
       "    <tr>\n",
       "      <th>61591</th>\n",
       "      <td>this app would be good if not for it taking ov...</td>\n",
       "      <td>2</td>\n",
       "      <td>10</td>\n",
       "      <td>NaN</td>\n",
       "      <td>0</td>\n",
       "      <td>[app, good, take, device, start, comp, spotify...</td>\n",
       "    </tr>\n",
       "    <tr>\n",
       "      <th>61592</th>\n",
       "      <td>the app is good hard to navigate and won't jus...</td>\n",
       "      <td>2</td>\n",
       "      <td>1</td>\n",
       "      <td>NaN</td>\n",
       "      <td>0</td>\n",
       "      <td>[app, good, hard, navigate, let, play, song, c...</td>\n",
       "    </tr>\n",
       "    <tr>\n",
       "      <th>61593</th>\n",
       "      <td>its good but sometimes it doesnt load the musi...</td>\n",
       "      <td>4</td>\n",
       "      <td>0</td>\n",
       "      <td>NaN</td>\n",
       "      <td>0</td>\n",
       "      <td>[good, sometimes, doesnt, load, music, play, s...</td>\n",
       "    </tr>\n",
       "  </tbody>\n",
       "</table>\n",
       "<p>61594 rows × 6 columns</p>\n",
       "</div>"
      ],
      "text/plain": [
       "                                                  review  rating  \\\n",
       "0      great music service, the audio is high quality...       5   \n",
       "1      please ignore previous negative rating. this a...       5   \n",
       "2      this pop-up \"get the best spotify experience o...       4   \n",
       "3        really buggy and terrible to use as of recently       1   \n",
       "4      dear spotify why do i get songs that i didn't ...       1   \n",
       "...                                                  ...     ...   \n",
       "61589  even though it was communicated that lyrics fe...       1   \n",
       "61590  use to be sooo good back when i had it, and wh...       1   \n",
       "61591  this app would be good if not for it taking ov...       2   \n",
       "61592  the app is good hard to navigate and won't jus...       2   \n",
       "61593  its good but sometimes it doesnt load the musi...       4   \n",
       "\n",
       "       total_thumbs_up reply  replied  \\\n",
       "0                    2   NaN        0   \n",
       "1                    1   NaN        0   \n",
       "2                    0   NaN        0   \n",
       "3                    1   NaN        0   \n",
       "4                    1   NaN        0   \n",
       "...                ...   ...      ...   \n",
       "61589                6   NaN        0   \n",
       "61590                0   NaN        0   \n",
       "61591               10   NaN        0   \n",
       "61592                1   NaN        0   \n",
       "61593                0   NaN        0   \n",
       "\n",
       "                                             process_tok  \n",
       "0      [great, music, service, audio, high, quality, ...  \n",
       "1      [please, ignore, previous, negative, rating, a...  \n",
       "2      [get, best, spotify, experience, android, anno...  \n",
       "3               [really, buggy, terrible, use, recently]  \n",
       "4      [dear, spotify, get, song, put, playlist, shuf...  \n",
       "...                                                  ...  \n",
       "61589  [even, communicate, lyric, feature, available,...  \n",
       "61590  [use, sooo, good, back, download, free, versio...  \n",
       "61591  [app, good, take, device, start, comp, spotify...  \n",
       "61592  [app, good, hard, navigate, let, play, song, c...  \n",
       "61593  [good, sometimes, doesnt, load, music, play, s...  \n",
       "\n",
       "[61594 rows x 6 columns]"
      ]
     },
     "execution_count": 22,
     "metadata": {},
     "output_type": "execute_result"
    }
   ],
   "source": [
    "# new column for reviews with processed tokens \n",
    "spotify_df"
   ]
  },
  {
   "cell_type": "code",
   "execution_count": 24,
   "id": "14a7bbfb",
   "metadata": {},
   "outputs": [
    {
     "data": {
      "text/plain": [
       "19451"
      ]
     },
     "execution_count": 24,
     "metadata": {},
     "output_type": "execute_result"
    }
   ],
   "source": [
    "flattened_toks = pd.Series(list(itertools.chain(*spotify_df.process_tok)))\n",
    "len(flattened_toks.unique())"
   ]
  },
  {
   "cell_type": "code",
   "execution_count": 25,
   "id": "54815a78",
   "metadata": {},
   "outputs": [
    {
     "data": {
      "text/plain": [
       "array(['great', 'music', 'service', ..., 'time', 'work', 'great'],\n",
       "      dtype=object)"
      ]
     },
     "execution_count": 25,
     "metadata": {},
     "output_type": "execute_result"
    }
   ],
   "source": [
    "flattened_toks.values"
   ]
  },
  {
   "cell_type": "code",
   "execution_count": 26,
   "id": "aa2fda7f",
   "metadata": {},
   "outputs": [
    {
     "data": {
      "text/plain": [
       "<bound method Series.unique of 0           great\n",
       "1           music\n",
       "2         service\n",
       "3           audio\n",
       "4            high\n",
       "           ...   \n",
       "896174     diesnt\n",
       "896175       work\n",
       "896176       time\n",
       "896177       work\n",
       "896178      great\n",
       "Length: 896179, dtype: object>"
      ]
     },
     "execution_count": 26,
     "metadata": {},
     "output_type": "execute_result"
    }
   ],
   "source": [
    "flattened_toks.unique"
   ]
  },
  {
   "cell_type": "code",
   "execution_count": 27,
   "id": "f3cdc503",
   "metadata": {},
   "outputs": [],
   "source": [
    "from spellchecker import SpellChecker"
   ]
  },
  {
   "cell_type": "code",
   "execution_count": 28,
   "id": "50084ff0",
   "metadata": {},
   "outputs": [],
   "source": [
    "from textblob import TextBlob"
   ]
  },
  {
   "cell_type": "code",
   "execution_count": 29,
   "id": "1945ccbe",
   "metadata": {},
   "outputs": [
    {
     "data": {
      "text/plain": [
       "0        great music service, the audio is high quality...\n",
       "1        please ignore previous negative rating. this a...\n",
       "2        this pop-up \"get the best spotify experience o...\n",
       "3          really buggy and terrible to use as of recently\n",
       "4        dear spotify why do i get songs that i didn't ...\n",
       "                               ...                        \n",
       "61589    even though it was communicated that lyrics fe...\n",
       "61590    use to be sooo good back when i had it, and wh...\n",
       "61591    this app would be good if not for it taking ov...\n",
       "61592    the app is good hard to navigate and won't jus...\n",
       "61593    its good but sometimes it doesnt load the musi...\n",
       "Name: review, Length: 61594, dtype: object"
      ]
     },
     "execution_count": 29,
     "metadata": {},
     "output_type": "execute_result"
    }
   ],
   "source": [
    "spotify_df.review"
   ]
  },
  {
   "cell_type": "code",
   "execution_count": 363,
   "id": "08dc7546",
   "metadata": {},
   "outputs": [
    {
     "name": "stdout",
     "output_type": "stream",
     "text": [
      "3892\n"
     ]
    }
   ],
   "source": [
    "spell = SpellChecker()\n",
    "misspelled = spell.unknown(spotify_df.review)\n",
    "print(len(misspelled))"
   ]
  },
  {
   "cell_type": "code",
   "execution_count": 94,
   "id": "c97384cc",
   "metadata": {},
   "outputs": [],
   "source": [
    "def correct_text(sent):\n",
    "    blob = TextBlob(str(sent))\n",
    "    correct_blob = blob.correct()\n",
    "    return correct_blob"
   ]
  },
  {
   "cell_type": "code",
   "execution_count": 96,
   "id": "5468acd1",
   "metadata": {},
   "outputs": [],
   "source": [
    "test_toks = flattened_toks.values[-5::]\n",
    "#test_blob = TextBlob(test_toks)\n",
    "#correct_blob = test_blob.correct()\n",
    "#print(correct_blob)"
   ]
  },
  {
   "cell_type": "code",
   "execution_count": 121,
   "id": "efadc07a",
   "metadata": {},
   "outputs": [
    {
     "data": {
      "text/plain": [
       "896159          need\n",
       "896160          play\n",
       "896161          song\n",
       "896162         click\n",
       "896163          good\n",
       "896164     sometimes\n",
       "896165        doesnt\n",
       "896166          load\n",
       "896167         music\n",
       "896168          play\n",
       "896169        second\n",
       "896170          song\n",
       "896171          stop\n",
       "896172           say\n",
       "896173    connection\n",
       "896174        diesnt\n",
       "896175          work\n",
       "896176          time\n",
       "896177          work\n",
       "896178         great\n",
       "dtype: object"
      ]
     },
     "execution_count": 121,
     "metadata": {},
     "output_type": "execute_result"
    }
   ],
   "source": [
    "first_five = flattened_toks[-20::]\n",
    "first_five\n",
    "#first_five.apply(lambda x: str(TextBlob(x).correct()))"
   ]
  },
  {
   "cell_type": "code",
   "execution_count": 97,
   "id": "b6672eea",
   "metadata": {},
   "outputs": [
    {
     "data": {
      "text/plain": [
       "TextBlob(\"['doesn' 'work' 'time' 'work' 'great']\")"
      ]
     },
     "execution_count": 97,
     "metadata": {},
     "output_type": "execute_result"
    }
   ],
   "source": [
    "correct_text(test_toks)"
   ]
  },
  {
   "cell_type": "code",
   "execution_count": 71,
   "id": "51ca0b37",
   "metadata": {},
   "outputs": [
    {
     "data": {
      "text/plain": [
       "[('app', 34869),\n",
       " ('song', 32689),\n",
       " ('music', 25723),\n",
       " ('play', 19226),\n",
       " ('spotify', 18935),\n",
       " ('listen', 12910),\n",
       " ('use', 11473),\n",
       " ('ad', 10399),\n",
       " ('playlist', 9963),\n",
       " ('get', 9926),\n",
       " ('good', 9698),\n",
       " ('love', 9439),\n",
       " ('premium', 8940),\n",
       " ('great', 7454),\n",
       " ('want', 7064),\n",
       " ('even', 7022),\n",
       " ('work', 6889),\n",
       " ('update', 6731),\n",
       " ('time', 6687),\n",
       " ('fix', 6092)]"
      ]
     },
     "execution_count": 71,
     "metadata": {},
     "output_type": "execute_result"
    }
   ],
   "source": [
    "fdist = FreqDist(flattened_toks)\n",
    "# top 20 most common tokens \n",
    "fdist.most_common(20)"
   ]
  },
  {
   "cell_type": "code",
   "execution_count": 73,
   "id": "c0ab515e",
   "metadata": {},
   "outputs": [
    {
     "data": {
      "text/plain": [
       "reached        1\n",
       "sop            1\n",
       "icebreaker     1\n",
       "mooder         1\n",
       "iove           1\n",
       "netweok        1\n",
       "vrey           1\n",
       "tgey           1\n",
       "premeim        1\n",
       "severally      1\n",
       "alo            1\n",
       "gradient       1\n",
       "preveiw        1\n",
       "vgood          1\n",
       "travellling    1\n",
       "goldan         1\n",
       "resistant      1\n",
       "bttr           1\n",
       "benwfitnit     1\n",
       "needy          1\n",
       "dtype: int64"
      ]
     },
     "execution_count": 73,
     "metadata": {},
     "output_type": "execute_result"
    }
   ],
   "source": [
    "flattened_toks.value_counts().tail(20)"
   ]
  },
  {
   "cell_type": "code",
   "execution_count": 39,
   "id": "782f5488",
   "metadata": {},
   "outputs": [],
   "source": [
    "#misspelled_toks = TextBlob(misspelled_toks)\n",
    "#corrected = misspelled_toks.correct()\n",
    "#print(corrected)"
   ]
  },
  {
   "cell_type": "code",
   "execution_count": 43,
   "id": "88c51590",
   "metadata": {},
   "outputs": [
    {
     "data": {
      "text/html": [
       "<div>\n",
       "<style scoped>\n",
       "    .dataframe tbody tr th:only-of-type {\n",
       "        vertical-align: middle;\n",
       "    }\n",
       "\n",
       "    .dataframe tbody tr th {\n",
       "        vertical-align: top;\n",
       "    }\n",
       "\n",
       "    .dataframe thead th {\n",
       "        text-align: right;\n",
       "    }\n",
       "</style>\n",
       "<table border=\"1\" class=\"dataframe\">\n",
       "  <thead>\n",
       "    <tr style=\"text-align: right;\">\n",
       "      <th></th>\n",
       "      <th>review</th>\n",
       "      <th>rating</th>\n",
       "      <th>total_thumbs_up</th>\n",
       "      <th>reply</th>\n",
       "      <th>replied</th>\n",
       "      <th>tok_norm</th>\n",
       "    </tr>\n",
       "  </thead>\n",
       "  <tbody>\n",
       "    <tr>\n",
       "      <th>23736</th>\n",
       "      <td>the best app for playlist but worst while logi...</td>\n",
       "      <td>1</td>\n",
       "      <td>0</td>\n",
       "      <td>NaN</td>\n",
       "      <td>0</td>\n",
       "      <td>[best, app, playlist, worst, loging, everytime...</td>\n",
       "    </tr>\n",
       "  </tbody>\n",
       "</table>\n",
       "</div>"
      ],
      "text/plain": [
       "                                                  review  rating  \\\n",
       "23736  the best app for playlist but worst while logi...       1   \n",
       "\n",
       "       total_thumbs_up reply  replied  \\\n",
       "23736                0   NaN        0   \n",
       "\n",
       "                                                tok_norm  \n",
       "23736  [best, app, playlist, worst, loging, everytime...  "
      ]
     },
     "execution_count": 43,
     "metadata": {},
     "output_type": "execute_result"
    }
   ],
   "source": [
    "spotify_df[spotify_df.review.str.contains('prob😕')]"
   ]
  },
  {
   "cell_type": "code",
   "execution_count": 125,
   "id": "2046ad1d",
   "metadata": {},
   "outputs": [
    {
     "data": {
      "text/html": [
       "<div>\n",
       "<style scoped>\n",
       "    .dataframe tbody tr th:only-of-type {\n",
       "        vertical-align: middle;\n",
       "    }\n",
       "\n",
       "    .dataframe tbody tr th {\n",
       "        vertical-align: top;\n",
       "    }\n",
       "\n",
       "    .dataframe thead th {\n",
       "        text-align: right;\n",
       "    }\n",
       "</style>\n",
       "<table border=\"1\" class=\"dataframe\">\n",
       "  <thead>\n",
       "    <tr style=\"text-align: right;\">\n",
       "      <th></th>\n",
       "      <th>review</th>\n",
       "      <th>rating</th>\n",
       "      <th>total_thumbs_up</th>\n",
       "      <th>reply</th>\n",
       "      <th>replied</th>\n",
       "      <th>process_tok</th>\n",
       "    </tr>\n",
       "  </thead>\n",
       "  <tbody>\n",
       "    <tr>\n",
       "      <th>0</th>\n",
       "      <td>great music service, the audio is high quality...</td>\n",
       "      <td>5</td>\n",
       "      <td>2</td>\n",
       "      <td>NaN</td>\n",
       "      <td>0</td>\n",
       "      <td>[great, music, service, audio, high, quality, ...</td>\n",
       "    </tr>\n",
       "    <tr>\n",
       "      <th>1</th>\n",
       "      <td>please ignore previous negative rating. this a...</td>\n",
       "      <td>5</td>\n",
       "      <td>1</td>\n",
       "      <td>NaN</td>\n",
       "      <td>0</td>\n",
       "      <td>[please, ignore, previous, negative, rating, a...</td>\n",
       "    </tr>\n",
       "    <tr>\n",
       "      <th>2</th>\n",
       "      <td>this pop-up \"get the best spotify experience o...</td>\n",
       "      <td>4</td>\n",
       "      <td>0</td>\n",
       "      <td>NaN</td>\n",
       "      <td>0</td>\n",
       "      <td>[get, best, spotify, experience, android, anno...</td>\n",
       "    </tr>\n",
       "    <tr>\n",
       "      <th>3</th>\n",
       "      <td>really buggy and terrible to use as of recently</td>\n",
       "      <td>1</td>\n",
       "      <td>1</td>\n",
       "      <td>NaN</td>\n",
       "      <td>0</td>\n",
       "      <td>[really, buggy, terrible, use, recently]</td>\n",
       "    </tr>\n",
       "    <tr>\n",
       "      <th>4</th>\n",
       "      <td>dear spotify why do i get songs that i didn't ...</td>\n",
       "      <td>1</td>\n",
       "      <td>1</td>\n",
       "      <td>NaN</td>\n",
       "      <td>0</td>\n",
       "      <td>[dear, spotify, get, song, put, playlist, shuf...</td>\n",
       "    </tr>\n",
       "    <tr>\n",
       "      <th>...</th>\n",
       "      <td>...</td>\n",
       "      <td>...</td>\n",
       "      <td>...</td>\n",
       "      <td>...</td>\n",
       "      <td>...</td>\n",
       "      <td>...</td>\n",
       "    </tr>\n",
       "    <tr>\n",
       "      <th>61589</th>\n",
       "      <td>even though it was communicated that lyrics fe...</td>\n",
       "      <td>1</td>\n",
       "      <td>6</td>\n",
       "      <td>NaN</td>\n",
       "      <td>0</td>\n",
       "      <td>[even, communicate, lyric, feature, available,...</td>\n",
       "    </tr>\n",
       "    <tr>\n",
       "      <th>61590</th>\n",
       "      <td>use to be sooo good back when i had it, and wh...</td>\n",
       "      <td>1</td>\n",
       "      <td>0</td>\n",
       "      <td>NaN</td>\n",
       "      <td>0</td>\n",
       "      <td>[use, sooo, good, back, download, free, versio...</td>\n",
       "    </tr>\n",
       "    <tr>\n",
       "      <th>61591</th>\n",
       "      <td>this app would be good if not for it taking ov...</td>\n",
       "      <td>2</td>\n",
       "      <td>10</td>\n",
       "      <td>NaN</td>\n",
       "      <td>0</td>\n",
       "      <td>[app, good, take, device, start, comp, spotify...</td>\n",
       "    </tr>\n",
       "    <tr>\n",
       "      <th>61592</th>\n",
       "      <td>the app is good hard to navigate and won't jus...</td>\n",
       "      <td>2</td>\n",
       "      <td>1</td>\n",
       "      <td>NaN</td>\n",
       "      <td>0</td>\n",
       "      <td>[app, good, hard, navigate, let, play, song, c...</td>\n",
       "    </tr>\n",
       "    <tr>\n",
       "      <th>61593</th>\n",
       "      <td>its good but sometimes it doesnt load the musi...</td>\n",
       "      <td>4</td>\n",
       "      <td>0</td>\n",
       "      <td>NaN</td>\n",
       "      <td>0</td>\n",
       "      <td>[good, sometimes, doesnt, load, music, play, s...</td>\n",
       "    </tr>\n",
       "  </tbody>\n",
       "</table>\n",
       "<p>61594 rows × 6 columns</p>\n",
       "</div>"
      ],
      "text/plain": [
       "                                                  review  rating  \\\n",
       "0      great music service, the audio is high quality...       5   \n",
       "1      please ignore previous negative rating. this a...       5   \n",
       "2      this pop-up \"get the best spotify experience o...       4   \n",
       "3        really buggy and terrible to use as of recently       1   \n",
       "4      dear spotify why do i get songs that i didn't ...       1   \n",
       "...                                                  ...     ...   \n",
       "61589  even though it was communicated that lyrics fe...       1   \n",
       "61590  use to be sooo good back when i had it, and wh...       1   \n",
       "61591  this app would be good if not for it taking ov...       2   \n",
       "61592  the app is good hard to navigate and won't jus...       2   \n",
       "61593  its good but sometimes it doesnt load the musi...       4   \n",
       "\n",
       "       total_thumbs_up reply  replied  \\\n",
       "0                    2   NaN        0   \n",
       "1                    1   NaN        0   \n",
       "2                    0   NaN        0   \n",
       "3                    1   NaN        0   \n",
       "4                    1   NaN        0   \n",
       "...                ...   ...      ...   \n",
       "61589                6   NaN        0   \n",
       "61590                0   NaN        0   \n",
       "61591               10   NaN        0   \n",
       "61592                1   NaN        0   \n",
       "61593                0   NaN        0   \n",
       "\n",
       "                                             process_tok  \n",
       "0      [great, music, service, audio, high, quality, ...  \n",
       "1      [please, ignore, previous, negative, rating, a...  \n",
       "2      [get, best, spotify, experience, android, anno...  \n",
       "3               [really, buggy, terrible, use, recently]  \n",
       "4      [dear, spotify, get, song, put, playlist, shuf...  \n",
       "...                                                  ...  \n",
       "61589  [even, communicate, lyric, feature, available,...  \n",
       "61590  [use, sooo, good, back, download, free, versio...  \n",
       "61591  [app, good, take, device, start, comp, spotify...  \n",
       "61592  [app, good, hard, navigate, let, play, song, c...  \n",
       "61593  [good, sometimes, doesnt, load, music, play, s...  \n",
       "\n",
       "[61594 rows x 6 columns]"
      ]
     },
     "execution_count": 125,
     "metadata": {},
     "output_type": "execute_result"
    }
   ],
   "source": [
    "spotify_df"
   ]
  },
  {
   "cell_type": "code",
   "execution_count": 159,
   "id": "48e3be82",
   "metadata": {},
   "outputs": [
    {
     "data": {
      "text/plain": [
       "Int64Index([21827, 61593], dtype='int64')"
      ]
     },
     "execution_count": 159,
     "metadata": {},
     "output_type": "execute_result"
    }
   ],
   "source": [
    "spotify_df[spotify_df.review.str.contains('diesnt')].index"
   ]
  },
  {
   "cell_type": "code",
   "execution_count": 153,
   "id": "df08189c",
   "metadata": {},
   "outputs": [],
   "source": [
    "from nltk.sentiment.vader import SentimentIntensityAnalyzer"
   ]
  },
  {
   "cell_type": "code",
   "execution_count": 160,
   "id": "e6016a7b",
   "metadata": {},
   "outputs": [
    {
     "data": {
      "text/plain": [
       "\"app keeps letting songs play for 10 seconds when try to select and then stops. it diesnt recognise it's in playback mode (best way i can describe). you have to turn phone off and then on to reset and make it work again. such a pain as you cant even just close and re open app to reset. incredibly infuriating.\""
      ]
     },
     "execution_count": 160,
     "metadata": {},
     "output_type": "execute_result"
    }
   ],
   "source": [
    "ninth_review = spotify_df.review[21827]\n",
    "ninth_review"
   ]
  },
  {
   "cell_type": "code",
   "execution_count": 156,
   "id": "d0207bd3",
   "metadata": {},
   "outputs": [],
   "source": [
    "sent = SentimentIntensityAnalyzer()"
   ]
  },
  {
   "cell_type": "code",
   "execution_count": 161,
   "id": "03b9d003",
   "metadata": {},
   "outputs": [
    {
     "data": {
      "text/plain": [
       "{'neg': 0.132, 'neu': 0.831, 'pos': 0.037, 'compound': -0.7346}"
      ]
     },
     "execution_count": 161,
     "metadata": {},
     "output_type": "execute_result"
    }
   ],
   "source": [
    "sent.polarity_scores(ninth_review)"
   ]
  },
  {
   "cell_type": "code",
   "execution_count": 175,
   "id": "09fb53a6",
   "metadata": {},
   "outputs": [],
   "source": [
    "corrected_review = \"app keeps letting songs play for 10 seconds when I try to select and then stops. it doesn recognise it's in playback mode (best way i can describe). you have to turn phone off and then on to rest and make it work again. such a pain as you can even just close and re open app to rest. incredibly infuriating.\""
   ]
  },
  {
   "cell_type": "code",
   "execution_count": 176,
   "id": "bf493536",
   "metadata": {
    "scrolled": true
   },
   "outputs": [
    {
     "data": {
      "text/plain": [
       "{'neg': 0.132, 'neu': 0.831, 'pos': 0.037, 'compound': -0.7346}"
      ]
     },
     "execution_count": 176,
     "metadata": {},
     "output_type": "execute_result"
    }
   ],
   "source": [
    "sent.polarity_scores(corrected_review)"
   ]
  },
  {
   "cell_type": "markdown",
   "id": "ac45f68a",
   "metadata": {},
   "source": [
    "## VADER Sentiment Analysis"
   ]
  },
  {
   "cell_type": "markdown",
   "id": "37e7e0c7",
   "metadata": {},
   "source": [
    "Using VADER to calculate the compound scores for each review so as to create labels for positive, negative, and neutral reviews"
   ]
  },
  {
   "cell_type": "code",
   "execution_count": 198,
   "id": "a1554a7c",
   "metadata": {},
   "outputs": [
    {
     "data": {
      "text/plain": [
       "{'neg': 0.296, 'neu': 0.704, 'pos': 0.0, 'compound': -0.5209}"
      ]
     },
     "execution_count": 198,
     "metadata": {},
     "output_type": "execute_result"
    }
   ],
   "source": [
    "sent.polarity_scores(spotify_df.iloc[3][0])"
   ]
  },
  {
   "cell_type": "code",
   "execution_count": 199,
   "id": "312e7192",
   "metadata": {},
   "outputs": [],
   "source": [
    "score_comp = []\n",
    "score_pos = []\n",
    "score_neg = []\n",
    "sent = SentimentIntensityAnalyzer()\n",
    "for i in range(0,spotify_df.shape[0]):\n",
    "    score = sent.polarity_scores(spotify_df.iloc[i][0])\n",
    "    compound_score = score['compound']\n",
    "    score_comp.append(compound_score)\n",
    "    # extracting positive sentiment \n",
    "    pos_score = score['pos']\n",
    "    score_pos.append(pos_score)\n",
    "    # extracting negative sentiment \n",
    "    neg_score = score['neg']\n",
    "    score_neg.append(neg_score)"
   ]
  },
  {
   "cell_type": "code",
   "execution_count": 200,
   "id": "658bd8a3",
   "metadata": {},
   "outputs": [],
   "source": [
    "spotify_df['comp_score'] = score_comp\n",
    "spotify_df['pos_score'] = score_pos\n",
    "spotify_df['neg_score'] = score_neg"
   ]
  },
  {
   "cell_type": "code",
   "execution_count": 204,
   "id": "0d8901c0",
   "metadata": {},
   "outputs": [],
   "source": [
    "spotify_df = spotify_df.drop(columns='reply')"
   ]
  },
  {
   "cell_type": "code",
   "execution_count": 242,
   "id": "c6224c3d",
   "metadata": {},
   "outputs": [
    {
     "data": {
      "text/html": [
       "<div>\n",
       "<style scoped>\n",
       "    .dataframe tbody tr th:only-of-type {\n",
       "        vertical-align: middle;\n",
       "    }\n",
       "\n",
       "    .dataframe tbody tr th {\n",
       "        vertical-align: top;\n",
       "    }\n",
       "\n",
       "    .dataframe thead th {\n",
       "        text-align: right;\n",
       "    }\n",
       "</style>\n",
       "<table border=\"1\" class=\"dataframe\">\n",
       "  <thead>\n",
       "    <tr style=\"text-align: right;\">\n",
       "      <th></th>\n",
       "      <th>review</th>\n",
       "      <th>rating</th>\n",
       "      <th>total_thumbs_up</th>\n",
       "      <th>replied</th>\n",
       "      <th>process_tok</th>\n",
       "      <th>comp_score</th>\n",
       "      <th>pos_score</th>\n",
       "      <th>neg_score</th>\n",
       "    </tr>\n",
       "  </thead>\n",
       "  <tbody>\n",
       "    <tr>\n",
       "      <th>0</th>\n",
       "      <td>great music service, the audio is high quality...</td>\n",
       "      <td>5</td>\n",
       "      <td>2</td>\n",
       "      <td>0</td>\n",
       "      <td>[great, music, service, audio, high, quality, ...</td>\n",
       "      <td>0.9211</td>\n",
       "      <td>0.436</td>\n",
       "      <td>0.000</td>\n",
       "    </tr>\n",
       "    <tr>\n",
       "      <th>1</th>\n",
       "      <td>please ignore previous negative rating. this a...</td>\n",
       "      <td>5</td>\n",
       "      <td>1</td>\n",
       "      <td>0</td>\n",
       "      <td>[please, ignore, previous, negative, rating, a...</td>\n",
       "      <td>0.6249</td>\n",
       "      <td>0.404</td>\n",
       "      <td>0.243</td>\n",
       "    </tr>\n",
       "    <tr>\n",
       "      <th>2</th>\n",
       "      <td>this pop-up \"get the best spotify experience o...</td>\n",
       "      <td>4</td>\n",
       "      <td>0</td>\n",
       "      <td>0</td>\n",
       "      <td>[get, best, spotify, experience, android, anno...</td>\n",
       "      <td>0.5859</td>\n",
       "      <td>0.258</td>\n",
       "      <td>0.107</td>\n",
       "    </tr>\n",
       "    <tr>\n",
       "      <th>3</th>\n",
       "      <td>really buggy and terrible to use as of recently</td>\n",
       "      <td>1</td>\n",
       "      <td>1</td>\n",
       "      <td>0</td>\n",
       "      <td>[really, buggy, terrible, use, recently]</td>\n",
       "      <td>-0.5209</td>\n",
       "      <td>0.000</td>\n",
       "      <td>0.296</td>\n",
       "    </tr>\n",
       "    <tr>\n",
       "      <th>4</th>\n",
       "      <td>dear spotify why do i get songs that i didn't ...</td>\n",
       "      <td>1</td>\n",
       "      <td>1</td>\n",
       "      <td>0</td>\n",
       "      <td>[dear, spotify, get, song, put, playlist, shuf...</td>\n",
       "      <td>0.7149</td>\n",
       "      <td>0.260</td>\n",
       "      <td>0.000</td>\n",
       "    </tr>\n",
       "    <tr>\n",
       "      <th>...</th>\n",
       "      <td>...</td>\n",
       "      <td>...</td>\n",
       "      <td>...</td>\n",
       "      <td>...</td>\n",
       "      <td>...</td>\n",
       "      <td>...</td>\n",
       "      <td>...</td>\n",
       "      <td>...</td>\n",
       "    </tr>\n",
       "    <tr>\n",
       "      <th>61589</th>\n",
       "      <td>even though it was communicated that lyrics fe...</td>\n",
       "      <td>1</td>\n",
       "      <td>6</td>\n",
       "      <td>0</td>\n",
       "      <td>[even, communicate, lyric, feature, available,...</td>\n",
       "      <td>-0.2960</td>\n",
       "      <td>0.047</td>\n",
       "      <td>0.072</td>\n",
       "    </tr>\n",
       "    <tr>\n",
       "      <th>61590</th>\n",
       "      <td>use to be sooo good back when i had it, and wh...</td>\n",
       "      <td>1</td>\n",
       "      <td>0</td>\n",
       "      <td>0</td>\n",
       "      <td>[use, sooo, good, back, download, free, versio...</td>\n",
       "      <td>0.8481</td>\n",
       "      <td>0.227</td>\n",
       "      <td>0.069</td>\n",
       "    </tr>\n",
       "    <tr>\n",
       "      <th>61591</th>\n",
       "      <td>this app would be good if not for it taking ov...</td>\n",
       "      <td>2</td>\n",
       "      <td>10</td>\n",
       "      <td>0</td>\n",
       "      <td>[app, good, take, device, start, comp, spotify...</td>\n",
       "      <td>-0.9611</td>\n",
       "      <td>0.046</td>\n",
       "      <td>0.225</td>\n",
       "    </tr>\n",
       "    <tr>\n",
       "      <th>61592</th>\n",
       "      <td>the app is good hard to navigate and won't jus...</td>\n",
       "      <td>2</td>\n",
       "      <td>1</td>\n",
       "      <td>0</td>\n",
       "      <td>[app, good, hard, navigate, let, play, song, c...</td>\n",
       "      <td>0.8074</td>\n",
       "      <td>0.159</td>\n",
       "      <td>0.023</td>\n",
       "    </tr>\n",
       "    <tr>\n",
       "      <th>61593</th>\n",
       "      <td>its good but sometimes it doesnt load the musi...</td>\n",
       "      <td>4</td>\n",
       "      <td>0</td>\n",
       "      <td>0</td>\n",
       "      <td>[good, sometimes, doesnt, load, music, play, s...</td>\n",
       "      <td>0.8641</td>\n",
       "      <td>0.252</td>\n",
       "      <td>0.089</td>\n",
       "    </tr>\n",
       "  </tbody>\n",
       "</table>\n",
       "<p>61594 rows × 8 columns</p>\n",
       "</div>"
      ],
      "text/plain": [
       "                                                  review  rating  \\\n",
       "0      great music service, the audio is high quality...       5   \n",
       "1      please ignore previous negative rating. this a...       5   \n",
       "2      this pop-up \"get the best spotify experience o...       4   \n",
       "3        really buggy and terrible to use as of recently       1   \n",
       "4      dear spotify why do i get songs that i didn't ...       1   \n",
       "...                                                  ...     ...   \n",
       "61589  even though it was communicated that lyrics fe...       1   \n",
       "61590  use to be sooo good back when i had it, and wh...       1   \n",
       "61591  this app would be good if not for it taking ov...       2   \n",
       "61592  the app is good hard to navigate and won't jus...       2   \n",
       "61593  its good but sometimes it doesnt load the musi...       4   \n",
       "\n",
       "       total_thumbs_up  replied  \\\n",
       "0                    2        0   \n",
       "1                    1        0   \n",
       "2                    0        0   \n",
       "3                    1        0   \n",
       "4                    1        0   \n",
       "...                ...      ...   \n",
       "61589                6        0   \n",
       "61590                0        0   \n",
       "61591               10        0   \n",
       "61592                1        0   \n",
       "61593                0        0   \n",
       "\n",
       "                                             process_tok  comp_score  \\\n",
       "0      [great, music, service, audio, high, quality, ...      0.9211   \n",
       "1      [please, ignore, previous, negative, rating, a...      0.6249   \n",
       "2      [get, best, spotify, experience, android, anno...      0.5859   \n",
       "3               [really, buggy, terrible, use, recently]     -0.5209   \n",
       "4      [dear, spotify, get, song, put, playlist, shuf...      0.7149   \n",
       "...                                                  ...         ...   \n",
       "61589  [even, communicate, lyric, feature, available,...     -0.2960   \n",
       "61590  [use, sooo, good, back, download, free, versio...      0.8481   \n",
       "61591  [app, good, take, device, start, comp, spotify...     -0.9611   \n",
       "61592  [app, good, hard, navigate, let, play, song, c...      0.8074   \n",
       "61593  [good, sometimes, doesnt, load, music, play, s...      0.8641   \n",
       "\n",
       "       pos_score  neg_score  \n",
       "0          0.436      0.000  \n",
       "1          0.404      0.243  \n",
       "2          0.258      0.107  \n",
       "3          0.000      0.296  \n",
       "4          0.260      0.000  \n",
       "...          ...        ...  \n",
       "61589      0.047      0.072  \n",
       "61590      0.227      0.069  \n",
       "61591      0.046      0.225  \n",
       "61592      0.159      0.023  \n",
       "61593      0.252      0.089  \n",
       "\n",
       "[61594 rows x 8 columns]"
      ]
     },
     "execution_count": 242,
     "metadata": {},
     "output_type": "execute_result"
    }
   ],
   "source": [
    "spotify_df"
   ]
  },
  {
   "cell_type": "code",
   "execution_count": 262,
   "id": "ae5d1e0a",
   "metadata": {
    "scrolled": true
   },
   "outputs": [],
   "source": [
    "# creating different boolean masks using comp_scores \n",
    "pos_mask = spotify_df.loc[:, 'comp_score'] >= 0.05\n",
    "neg_mask = spotify_df.loc[:, 'comp_score'] <= -0.05\n",
    "neutral_mask = (spotify_df.loc[:,'comp_score'] <.05) & (spotify_df.loc[:,'comp_score'] > -0.05)"
   ]
  },
  {
   "cell_type": "code",
   "execution_count": 267,
   "id": "9bcad5d6",
   "metadata": {
    "scrolled": true
   },
   "outputs": [
    {
     "name": "stdout",
     "output_type": "stream",
     "text": [
      "Number of Positive Reviews:\n",
      "39589\n",
      "\n",
      "\n",
      "Number of Negative Reviews:\n",
      "16992\n",
      "\n",
      "\n",
      "Number of Neutral Reviews:\n",
      "5013\n"
     ]
    }
   ],
   "source": [
    "print(f'Number of Positive Reviews:')\n",
    "print(len(spotify_df[pos_mask]))\n",
    "print('\\n')\n",
    "print(f'Number of Negative Reviews:')\n",
    "print(len(spotify_df[neg_mask]))\n",
    "print('\\n')\n",
    "print(f'Number of Neutral Reviews:')\n",
    "print(len(spotify_df[neutral_mask]))"
   ]
  },
  {
   "cell_type": "code",
   "execution_count": 270,
   "id": "0deb09ff",
   "metadata": {},
   "outputs": [
    {
     "data": {
      "text/plain": [
       "0        0.9211\n",
       "1        0.6249\n",
       "2        0.5859\n",
       "3       -0.5209\n",
       "4        0.7149\n",
       "          ...  \n",
       "61589   -0.2960\n",
       "61590    0.8481\n",
       "61591   -0.9611\n",
       "61592    0.8074\n",
       "61593    0.8641\n",
       "Name: comp_score, Length: 61594, dtype: float64"
      ]
     },
     "execution_count": 270,
     "metadata": {},
     "output_type": "execute_result"
    }
   ],
   "source": [
    "spotify_df.comp_score"
   ]
  },
  {
   "cell_type": "code",
   "execution_count": 271,
   "id": "f023b9ca",
   "metadata": {},
   "outputs": [],
   "source": [
    "def sentiment_labels(score):\n",
    "    if score >= 0.05: \n",
    "        return 'pos'\n",
    "    elif score <= -0.05:\n",
    "        return 'neg'\n",
    "    else: \n",
    "        return 'neutral'"
   ]
  },
  {
   "cell_type": "code",
   "execution_count": 272,
   "id": "42b55c88",
   "metadata": {},
   "outputs": [],
   "source": [
    "spotify_df['sentiment'] = spotify_df.comp_score.apply(sentiment_labels)"
   ]
  },
  {
   "cell_type": "code",
   "execution_count": 351,
   "id": "cbe49c67",
   "metadata": {},
   "outputs": [
    {
     "data": {
      "text/plain": [
       "Int64Index([58206, 58325, 59033, 59203, 60968], dtype='int64')"
      ]
     },
     "execution_count": 351,
     "metadata": {},
     "output_type": "execute_result"
    }
   ],
   "source": [
    "spotify_df[spotify_df.review.str.contains('😕')].tail().index"
   ]
  },
  {
   "cell_type": "code",
   "execution_count": 361,
   "id": "37350505",
   "metadata": {},
   "outputs": [],
   "source": [
    "spotify_df.to_csv('data/preprocessed-reviews.csv',index=False)"
   ]
  },
  {
   "cell_type": "markdown",
   "id": "2dedcb26",
   "metadata": {},
   "source": [
    "## Exporting Processed Data"
   ]
  },
  {
   "cell_type": "code",
   "execution_count": 192,
   "id": "aa886d30",
   "metadata": {},
   "outputs": [],
   "source": [
    "fnc_output = spotify_df.process_tok.apply(\n",
    "    \" \".join)\n",
    "fnc_output.to_csv('data/spotify-reviews.csv',index=False)"
   ]
  },
  {
   "cell_type": "code",
   "execution_count": 193,
   "id": "2a863902",
   "metadata": {},
   "outputs": [
    {
     "data": {
      "text/html": [
       "<div>\n",
       "<style scoped>\n",
       "    .dataframe tbody tr th:only-of-type {\n",
       "        vertical-align: middle;\n",
       "    }\n",
       "\n",
       "    .dataframe tbody tr th {\n",
       "        vertical-align: top;\n",
       "    }\n",
       "\n",
       "    .dataframe thead th {\n",
       "        text-align: right;\n",
       "    }\n",
       "</style>\n",
       "<table border=\"1\" class=\"dataframe\">\n",
       "  <thead>\n",
       "    <tr style=\"text-align: right;\">\n",
       "      <th></th>\n",
       "      <th>process_tok</th>\n",
       "    </tr>\n",
       "  </thead>\n",
       "  <tbody>\n",
       "    <tr>\n",
       "      <th>0</th>\n",
       "      <td>great music service audio high quality app eas...</td>\n",
       "    </tr>\n",
       "    <tr>\n",
       "      <th>1</th>\n",
       "      <td>please ignore previous negative rating app sup...</td>\n",
       "    </tr>\n",
       "    <tr>\n",
       "      <th>2</th>\n",
       "      <td>get best spotify experience android annoy plea...</td>\n",
       "    </tr>\n",
       "    <tr>\n",
       "      <th>3</th>\n",
       "      <td>really buggy terrible use recently</td>\n",
       "    </tr>\n",
       "    <tr>\n",
       "      <th>4</th>\n",
       "      <td>dear spotify get song put playlist shuffle play</td>\n",
       "    </tr>\n",
       "    <tr>\n",
       "      <th>...</th>\n",
       "      <td>...</td>\n",
       "    </tr>\n",
       "    <tr>\n",
       "      <th>61589</th>\n",
       "      <td>even communicate lyric feature available user ...</td>\n",
       "    </tr>\n",
       "    <tr>\n",
       "      <th>61590</th>\n",
       "      <td>use sooo good back download free version pick ...</td>\n",
       "    </tr>\n",
       "    <tr>\n",
       "      <th>61591</th>\n",
       "      <td>app good take device start comp spotify start ...</td>\n",
       "    </tr>\n",
       "    <tr>\n",
       "      <th>61592</th>\n",
       "      <td>app good hard navigate let play song click pla...</td>\n",
       "    </tr>\n",
       "    <tr>\n",
       "      <th>61593</th>\n",
       "      <td>good sometimes doesnt load music play second s...</td>\n",
       "    </tr>\n",
       "  </tbody>\n",
       "</table>\n",
       "<p>61594 rows × 1 columns</p>\n",
       "</div>"
      ],
      "text/plain": [
       "                                             process_tok\n",
       "0      great music service audio high quality app eas...\n",
       "1      please ignore previous negative rating app sup...\n",
       "2      get best spotify experience android annoy plea...\n",
       "3                     really buggy terrible use recently\n",
       "4        dear spotify get song put playlist shuffle play\n",
       "...                                                  ...\n",
       "61589  even communicate lyric feature available user ...\n",
       "61590  use sooo good back download free version pick ...\n",
       "61591  app good take device start comp spotify start ...\n",
       "61592  app good hard navigate let play song click pla...\n",
       "61593  good sometimes doesnt load music play second s...\n",
       "\n",
       "[61594 rows x 1 columns]"
      ]
     },
     "execution_count": 193,
     "metadata": {},
     "output_type": "execute_result"
    }
   ],
   "source": [
    "pd.read_csv('data/spotify-reviews.csv')"
   ]
  },
  {
   "cell_type": "code",
   "execution_count": null,
   "id": "6f93b106",
   "metadata": {},
   "outputs": [],
   "source": []
  }
 ],
 "metadata": {
  "kernelspec": {
   "display_name": "Python(flatiron-project)",
   "language": "python",
   "name": "flatiron-project"
  },
  "language_info": {
   "codemirror_mode": {
    "name": "ipython",
    "version": 3
   },
   "file_extension": ".py",
   "mimetype": "text/x-python",
   "name": "python",
   "nbconvert_exporter": "python",
   "pygments_lexer": "ipython3",
   "version": "3.9.16"
  }
 },
 "nbformat": 4,
 "nbformat_minor": 5
}
