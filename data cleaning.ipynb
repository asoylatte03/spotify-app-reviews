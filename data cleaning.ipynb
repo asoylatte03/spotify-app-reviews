{
 "cells": [
  {
   "cell_type": "code",
   "execution_count": 1,
   "metadata": {},
   "outputs": [],
   "source": [
    "# imports\n",
    "import pandas as pd\n",
    "import numpy as np\n",
    "\n",
    "# nlp packages\n",
    "import nltk\n",
    "from nltk.probability import FreqDist\n",
    "from nltk.corpus import stopwords\n",
    "from nltk.tokenize import regexp_tokenize, word_tokenize, RegexpTokenizer\n",
    "import matplotlib.pyplot as plt\n",
    "import string\n",
    "import re\n",
    "\n",
    "# vectorizers \n",
    "from nltk.tokenize import word_tokenize \n",
    "from nltk.tokenize import sent_tokenize \n",
    "import itertools\n",
    "from nltk.corpus import stopwords\n",
    "\n",
    "# lemmatizers \n",
    "from nltk import WordNetLemmatizer\n",
    "from nltk.corpus import wordnet \n",
    "from nltk import pos_tag\n",
    "\n",
    "# vader sentiment intensity analyzer\n",
    "from nltk.sentiment.vader import SentimentIntensityAnalyzer"
   ]
  },
  {
   "cell_type": "code",
   "execution_count": 2,
   "metadata": {},
   "outputs": [],
   "source": [
    "spotify_df = pd.read_csv('data/reviews.csv',usecols=['Review','Rating', 'Total_thumbsup', 'Reply'])\n",
    "spotify_df = spotify_df.rename(columns={'Review':'review', \n",
    "                           'Rating':'rating',\n",
    "                           'Total_thumbsup':'total_thumbs_up',\n",
    "                           'Reply':'reply'})"
   ]
  },
  {
   "cell_type": "code",
   "execution_count": 3,
   "metadata": {},
   "outputs": [
    {
     "data": {
      "text/html": [
       "<div>\n",
       "<style scoped>\n",
       "    .dataframe tbody tr th:only-of-type {\n",
       "        vertical-align: middle;\n",
       "    }\n",
       "\n",
       "    .dataframe tbody tr th {\n",
       "        vertical-align: top;\n",
       "    }\n",
       "\n",
       "    .dataframe thead th {\n",
       "        text-align: right;\n",
       "    }\n",
       "</style>\n",
       "<table border=\"1\" class=\"dataframe\">\n",
       "  <thead>\n",
       "    <tr style=\"text-align: right;\">\n",
       "      <th></th>\n",
       "      <th>review</th>\n",
       "      <th>rating</th>\n",
       "      <th>total_thumbs_up</th>\n",
       "      <th>reply</th>\n",
       "    </tr>\n",
       "  </thead>\n",
       "  <tbody>\n",
       "    <tr>\n",
       "      <th>0</th>\n",
       "      <td>Great music service, the audio is high quality...</td>\n",
       "      <td>5</td>\n",
       "      <td>2</td>\n",
       "      <td>NaN</td>\n",
       "    </tr>\n",
       "    <tr>\n",
       "      <th>1</th>\n",
       "      <td>Please ignore previous negative rating. This a...</td>\n",
       "      <td>5</td>\n",
       "      <td>1</td>\n",
       "      <td>NaN</td>\n",
       "    </tr>\n",
       "    <tr>\n",
       "      <th>2</th>\n",
       "      <td>This pop-up \"Get the best Spotify experience o...</td>\n",
       "      <td>4</td>\n",
       "      <td>0</td>\n",
       "      <td>NaN</td>\n",
       "    </tr>\n",
       "    <tr>\n",
       "      <th>3</th>\n",
       "      <td>Really buggy and terrible to use as of recently</td>\n",
       "      <td>1</td>\n",
       "      <td>1</td>\n",
       "      <td>NaN</td>\n",
       "    </tr>\n",
       "    <tr>\n",
       "      <th>4</th>\n",
       "      <td>Dear Spotify why do I get songs that I didn't ...</td>\n",
       "      <td>1</td>\n",
       "      <td>1</td>\n",
       "      <td>NaN</td>\n",
       "    </tr>\n",
       "  </tbody>\n",
       "</table>\n",
       "</div>"
      ],
      "text/plain": [
       "                                              review  rating  total_thumbs_up  \\\n",
       "0  Great music service, the audio is high quality...       5                2   \n",
       "1  Please ignore previous negative rating. This a...       5                1   \n",
       "2  This pop-up \"Get the best Spotify experience o...       4                0   \n",
       "3    Really buggy and terrible to use as of recently       1                1   \n",
       "4  Dear Spotify why do I get songs that I didn't ...       1                1   \n",
       "\n",
       "  reply  \n",
       "0   NaN  \n",
       "1   NaN  \n",
       "2   NaN  \n",
       "3   NaN  \n",
       "4   NaN  "
      ]
     },
     "execution_count": 3,
     "metadata": {},
     "output_type": "execute_result"
    }
   ],
   "source": [
    "spotify_df.head()"
   ]
  },
  {
   "cell_type": "code",
   "execution_count": 4,
   "metadata": {},
   "outputs": [
    {
     "name": "stdout",
     "output_type": "stream",
     "text": [
      "<class 'pandas.core.frame.DataFrame'>\n",
      "RangeIndex: 61594 entries, 0 to 61593\n",
      "Data columns (total 4 columns):\n",
      " #   Column           Non-Null Count  Dtype \n",
      "---  ------           --------------  ----- \n",
      " 0   review           61594 non-null  object\n",
      " 1   rating           61594 non-null  int64 \n",
      " 2   total_thumbs_up  61594 non-null  int64 \n",
      " 3   reply            216 non-null    object\n",
      "dtypes: int64(2), object(2)\n",
      "memory usage: 1.9+ MB\n"
     ]
    }
   ],
   "source": [
    "# checking if NaN values exist \n",
    "spotify_df.info()\n",
    "\n",
    "# looks like reply is only column with NaN "
   ]
  },
  {
   "cell_type": "markdown",
   "metadata": {},
   "source": [
    "There are no NaN values in the `review` column, which is where our reviews are; `reply` has the majority of NaNs. `reply` denotes whether Spotify's customer service team replied to the review on the Google Play Store"
   ]
  },
  {
   "cell_type": "code",
   "execution_count": 5,
   "metadata": {},
   "outputs": [
    {
     "data": {
      "text/plain": [
       "'\\n0 = did not reply \\n1 = replied\\n'"
      ]
     },
     "execution_count": 5,
     "metadata": {},
     "output_type": "execute_result"
    }
   ],
   "source": [
    "# generating a new column that maps whether Spotify replied or not \n",
    "spotify_df['replied'] = spotify_df['reply'].notna().astype(int)\n",
    "'''\n",
    "0 = did not reply \n",
    "1 = replied\n",
    "'''"
   ]
  },
  {
   "cell_type": "code",
   "execution_count": 6,
   "metadata": {},
   "outputs": [
    {
     "data": {
      "text/html": [
       "<div>\n",
       "<style scoped>\n",
       "    .dataframe tbody tr th:only-of-type {\n",
       "        vertical-align: middle;\n",
       "    }\n",
       "\n",
       "    .dataframe tbody tr th {\n",
       "        vertical-align: top;\n",
       "    }\n",
       "\n",
       "    .dataframe thead th {\n",
       "        text-align: right;\n",
       "    }\n",
       "</style>\n",
       "<table border=\"1\" class=\"dataframe\">\n",
       "  <thead>\n",
       "    <tr style=\"text-align: right;\">\n",
       "      <th></th>\n",
       "      <th>review</th>\n",
       "      <th>rating</th>\n",
       "      <th>total_thumbs_up</th>\n",
       "      <th>replied</th>\n",
       "    </tr>\n",
       "  </thead>\n",
       "  <tbody>\n",
       "    <tr>\n",
       "      <th>0</th>\n",
       "      <td>Great music service, the audio is high quality...</td>\n",
       "      <td>5</td>\n",
       "      <td>2</td>\n",
       "      <td>0</td>\n",
       "    </tr>\n",
       "    <tr>\n",
       "      <th>1</th>\n",
       "      <td>Please ignore previous negative rating. This a...</td>\n",
       "      <td>5</td>\n",
       "      <td>1</td>\n",
       "      <td>0</td>\n",
       "    </tr>\n",
       "    <tr>\n",
       "      <th>2</th>\n",
       "      <td>This pop-up \"Get the best Spotify experience o...</td>\n",
       "      <td>4</td>\n",
       "      <td>0</td>\n",
       "      <td>0</td>\n",
       "    </tr>\n",
       "    <tr>\n",
       "      <th>3</th>\n",
       "      <td>Really buggy and terrible to use as of recently</td>\n",
       "      <td>1</td>\n",
       "      <td>1</td>\n",
       "      <td>0</td>\n",
       "    </tr>\n",
       "    <tr>\n",
       "      <th>4</th>\n",
       "      <td>Dear Spotify why do I get songs that I didn't ...</td>\n",
       "      <td>1</td>\n",
       "      <td>1</td>\n",
       "      <td>0</td>\n",
       "    </tr>\n",
       "    <tr>\n",
       "      <th>...</th>\n",
       "      <td>...</td>\n",
       "      <td>...</td>\n",
       "      <td>...</td>\n",
       "      <td>...</td>\n",
       "    </tr>\n",
       "    <tr>\n",
       "      <th>61589</th>\n",
       "      <td>Even though it was communicated that lyrics fe...</td>\n",
       "      <td>1</td>\n",
       "      <td>6</td>\n",
       "      <td>0</td>\n",
       "    </tr>\n",
       "    <tr>\n",
       "      <th>61590</th>\n",
       "      <td>Use to be sooo good back when I had it, and wh...</td>\n",
       "      <td>1</td>\n",
       "      <td>0</td>\n",
       "      <td>0</td>\n",
       "    </tr>\n",
       "    <tr>\n",
       "      <th>61591</th>\n",
       "      <td>This app would be good if not for it taking ov...</td>\n",
       "      <td>2</td>\n",
       "      <td>10</td>\n",
       "      <td>0</td>\n",
       "    </tr>\n",
       "    <tr>\n",
       "      <th>61592</th>\n",
       "      <td>The app is good hard to navigate and won't jus...</td>\n",
       "      <td>2</td>\n",
       "      <td>1</td>\n",
       "      <td>0</td>\n",
       "    </tr>\n",
       "    <tr>\n",
       "      <th>61593</th>\n",
       "      <td>Its good but sometimes it doesnt load the musi...</td>\n",
       "      <td>4</td>\n",
       "      <td>0</td>\n",
       "      <td>0</td>\n",
       "    </tr>\n",
       "  </tbody>\n",
       "</table>\n",
       "<p>61594 rows × 4 columns</p>\n",
       "</div>"
      ],
      "text/plain": [
       "                                                  review  rating  \\\n",
       "0      Great music service, the audio is high quality...       5   \n",
       "1      Please ignore previous negative rating. This a...       5   \n",
       "2      This pop-up \"Get the best Spotify experience o...       4   \n",
       "3        Really buggy and terrible to use as of recently       1   \n",
       "4      Dear Spotify why do I get songs that I didn't ...       1   \n",
       "...                                                  ...     ...   \n",
       "61589  Even though it was communicated that lyrics fe...       1   \n",
       "61590  Use to be sooo good back when I had it, and wh...       1   \n",
       "61591  This app would be good if not for it taking ov...       2   \n",
       "61592  The app is good hard to navigate and won't jus...       2   \n",
       "61593  Its good but sometimes it doesnt load the musi...       4   \n",
       "\n",
       "       total_thumbs_up  replied  \n",
       "0                    2        0  \n",
       "1                    1        0  \n",
       "2                    0        0  \n",
       "3                    1        0  \n",
       "4                    1        0  \n",
       "...                ...      ...  \n",
       "61589                6        0  \n",
       "61590                0        0  \n",
       "61591               10        0  \n",
       "61592                1        0  \n",
       "61593                0        0  \n",
       "\n",
       "[61594 rows x 4 columns]"
      ]
     },
     "execution_count": 6,
     "metadata": {},
     "output_type": "execute_result"
    }
   ],
   "source": [
    "# viewing updated df and records where reply == True \n",
    "spotify_df[spotify_df.replied == 1]\n",
    "\n",
    "# updated dataframe since the exact reply is not relevant \n",
    "spotify_df = spotify_df.drop(columns=['reply'])\n",
    "spotify_df"
   ]
  },
  {
   "cell_type": "code",
   "execution_count": 7,
   "metadata": {},
   "outputs": [
    {
     "data": {
      "text/plain": [
       "review             0\n",
       "rating             0\n",
       "total_thumbs_up    0\n",
       "replied            0\n",
       "dtype: int64"
      ]
     },
     "execution_count": 7,
     "metadata": {},
     "output_type": "execute_result"
    }
   ],
   "source": [
    "# sanity check \n",
    "spotify_df.isna().sum()"
   ]
  },
  {
   "cell_type": "markdown",
   "metadata": {},
   "source": [
    "In order to begin preprocessing our text data, we need to normalize our data so that all reviews have the same format. "
   ]
  },
  {
   "cell_type": "code",
   "execution_count": 8,
   "metadata": {},
   "outputs": [
    {
     "data": {
      "text/plain": [
       "0        great music service, the audio is high quality...\n",
       "1        please ignore previous negative rating. this a...\n",
       "2        this pop-up \"get the best spotify experience o...\n",
       "3          really buggy and terrible to use as of recently\n",
       "4        dear spotify why do i get songs that i didn't ...\n",
       "                               ...                        \n",
       "61589    even though it was communicated that lyrics fe...\n",
       "61590    use to be sooo good back when i had it, and wh...\n",
       "61591    this app would be good if not for it taking ov...\n",
       "61592    the app is good hard to navigate and won't jus...\n",
       "61593    its good but sometimes it doesnt load the musi...\n",
       "Name: review, Length: 61594, dtype: object"
      ]
     },
     "execution_count": 8,
     "metadata": {},
     "output_type": "execute_result"
    }
   ],
   "source": [
    "# converting all review text to lowercase to normalize text \n",
    "spotify_df.review = spotify_df.review.str.lower()\n",
    "\n",
    "# sanity check \n",
    "spotify_df.review"
   ]
  },
  {
   "cell_type": "code",
   "execution_count": 9,
   "metadata": {},
   "outputs": [
    {
     "data": {
      "text/plain": [
       "'after the latest update it keeps glitching, sometimes it doesnt work at all, and stopped working on my android auto,tried uninstalling and reinstalling but still does the same'"
      ]
     },
     "execution_count": 9,
     "metadata": {},
     "output_type": "execute_result"
    }
   ],
   "source": [
    "# grabbing a randomly selected review from our dataset \n",
    "first_review = spotify_df.review.iloc[1047]\n",
    "first_review"
   ]
  },
  {
   "cell_type": "markdown",
   "metadata": {},
   "source": [
    "After normalizing, we'll need to tokenize each word; there are two methods to tokenize: `word_tokenize` and `sent_tokenize` which split each text by each word or sentence respectively. "
   ]
  },
  {
   "cell_type": "code",
   "execution_count": 10,
   "metadata": {},
   "outputs": [
    {
     "name": "stdout",
     "output_type": "stream",
     "text": [
      "word tokenized method:\n",
      "['after', 'the', 'latest', 'update', 'it', 'keeps', 'glitching', ',', 'sometimes', 'it', 'doesnt', 'work', 'at', 'all', ',', 'and', 'stopped', 'working', 'on', 'my', 'android', 'auto', ',', 'tried', 'uninstalling', 'and', 'reinstalling', 'but', 'still', 'does', 'the', 'same']\n",
      "\n",
      "\n",
      "sentence tokenizer method:\n",
      "['after the latest update it keeps glitching, sometimes it doesnt work at all, and stopped working on my android auto,tried uninstalling and reinstalling but still does the same']\n"
     ]
    }
   ],
   "source": [
    "# seeing different tokenizing methods with our selected review \n",
    "print('word tokenized method:')\n",
    "print(word_tokenize(first_review,language='english'))\n",
    "print('\\n')\n",
    "print('sentence tokenizer method:')\n",
    "print(sent_tokenize(first_review,language='english'))"
   ]
  },
  {
   "cell_type": "markdown",
   "metadata": {},
   "source": [
    "We can also tokenize each word after tokenizing each sentence for a more nuanced method "
   ]
  },
  {
   "cell_type": "code",
   "execution_count": 11,
   "metadata": {},
   "outputs": [
    {
     "name": "stdout",
     "output_type": "stream",
     "text": [
      "word-sentence tokenizer method:\n",
      "[['after', 'the', 'latest', 'update', 'it', 'keeps', 'glitching', ',', 'sometimes', 'it', 'doesnt', 'work', 'at', 'all', ',', 'and', 'stopped', 'working', 'on', 'my', 'android', 'auto', ',', 'tried', 'uninstalling', 'and', 'reinstalling', 'but', 'still', 'does', 'the', 'same']]\n"
     ]
    }
   ],
   "source": [
    "# tokenized word in each sentence \n",
    "print('word-sentence tokenizer method:')\n",
    "print([word_tokenize(sent) for sent in sent_tokenize(first_review)])\n",
    "\n",
    "# produces a nested list where each list is a sentence and each sublist contains tokenized word"
   ]
  },
  {
   "cell_type": "markdown",
   "metadata": {},
   "source": [
    "Let's use a function to: \n",
    "1. Initialize WordNetLemmatizer()\n",
    "2. Change NLTK's POS tagger to WordNet format \n",
    "3. Remove stop words and punctuation\n",
    "4. Return a corpus of normalized and tokenized text "
   ]
  },
  {
   "cell_type": "code",
   "execution_count": 12,
   "metadata": {},
   "outputs": [],
   "source": [
    "# importing stop_words \n",
    "stop_words = stopwords.words('english')"
   ]
  },
  {
   "cell_type": "code",
   "execution_count": 13,
   "metadata": {},
   "outputs": [],
   "source": [
    "# takes in untokenized document and returns fully normalized token list\n",
    "def process_doc(doc):\n",
    "\n",
    "    #initialize lemmatizer\n",
    "    wnl = WordNetLemmatizer()\n",
    "\n",
    "    # helper function to change nltk's part of speech tagging to a wordnet format.\n",
    "    def pos_tagger(nltk_tag):\n",
    "        if nltk_tag.startswith('J'):\n",
    "            return wordnet.ADJ\n",
    "        elif nltk_tag.startswith('V'):\n",
    "            return wordnet.VERB\n",
    "        elif nltk_tag.startswith('N'):\n",
    "            return wordnet.NOUN\n",
    "        elif nltk_tag.startswith('R'):\n",
    "            return wordnet.ADV\n",
    "        else:         \n",
    "            return None\n",
    "        \n",
    "    # remove stop words and punctuations, then lower case\n",
    "    doc_norm = [tok.lower() for tok in word_tokenize(doc) if ((tok.isalpha()) & (tok.lower() not in stop_words)) ]\n",
    "\n",
    "    #  POS detection on the result will be important in telling Wordnet's lemmatizer how to lemmatize\n",
    "    \n",
    "    # creates list of tuples with tokens and POS tags in wordnet format\n",
    "    wordnet_tagged = list(map(lambda x: (x[0], pos_tagger(x[1])), pos_tag(doc_norm))) \n",
    "    doc_norm = [wnl.lemmatize(token, pos) for token, pos in wordnet_tagged if pos is not None]\n",
    "    \n",
    "    return doc_norm"
   ]
  },
  {
   "cell_type": "code",
   "execution_count": 14,
   "metadata": {
    "scrolled": false
   },
   "outputs": [
    {
     "name": "stdout",
     "output_type": "stream",
     "text": [
      "original review:\n",
      "after the latest update it keeps glitching, sometimes it doesnt work at all, and stopped working on my android auto,tried uninstalling and reinstalling but still does the same\n",
      "\n",
      "\n",
      "processed review\n"
     ]
    },
    {
     "data": {
      "text/plain": [
       "['late',\n",
       " 'update',\n",
       " 'keep',\n",
       " 'glitching',\n",
       " 'sometimes',\n",
       " 'doesnt',\n",
       " 'work',\n",
       " 'stop',\n",
       " 'work',\n",
       " 'android',\n",
       " 'auto',\n",
       " 'try',\n",
       " 'uninstalling',\n",
       " 'reinstalling',\n",
       " 'still']"
      ]
     },
     "execution_count": 14,
     "metadata": {},
     "output_type": "execute_result"
    }
   ],
   "source": [
    "# testing our function on our randomly selected review \n",
    "print('original review:')\n",
    "print(first_review)\n",
    "print('\\n')\n",
    "print('processed review')\n",
    "process_doc(first_review)"
   ]
  },
  {
   "cell_type": "markdown",
   "metadata": {},
   "source": [
    "We can see that using our helper function to process our sample review that words such as \"the\", \"it\", and \"on my\" have been removed to only generate words of importance "
   ]
  },
  {
   "cell_type": "code",
   "execution_count": 15,
   "metadata": {},
   "outputs": [
    {
     "data": {
      "text/html": [
       "<div>\n",
       "<style scoped>\n",
       "    .dataframe tbody tr th:only-of-type {\n",
       "        vertical-align: middle;\n",
       "    }\n",
       "\n",
       "    .dataframe tbody tr th {\n",
       "        vertical-align: top;\n",
       "    }\n",
       "\n",
       "    .dataframe thead th {\n",
       "        text-align: right;\n",
       "    }\n",
       "</style>\n",
       "<table border=\"1\" class=\"dataframe\">\n",
       "  <thead>\n",
       "    <tr style=\"text-align: right;\">\n",
       "      <th></th>\n",
       "      <th>review</th>\n",
       "      <th>rating</th>\n",
       "      <th>total_thumbs_up</th>\n",
       "      <th>replied</th>\n",
       "    </tr>\n",
       "  </thead>\n",
       "  <tbody>\n",
       "    <tr>\n",
       "      <th>0</th>\n",
       "      <td>great music service, the audio is high quality...</td>\n",
       "      <td>5</td>\n",
       "      <td>2</td>\n",
       "      <td>0</td>\n",
       "    </tr>\n",
       "    <tr>\n",
       "      <th>1</th>\n",
       "      <td>please ignore previous negative rating. this a...</td>\n",
       "      <td>5</td>\n",
       "      <td>1</td>\n",
       "      <td>0</td>\n",
       "    </tr>\n",
       "    <tr>\n",
       "      <th>2</th>\n",
       "      <td>this pop-up \"get the best spotify experience o...</td>\n",
       "      <td>4</td>\n",
       "      <td>0</td>\n",
       "      <td>0</td>\n",
       "    </tr>\n",
       "    <tr>\n",
       "      <th>3</th>\n",
       "      <td>really buggy and terrible to use as of recently</td>\n",
       "      <td>1</td>\n",
       "      <td>1</td>\n",
       "      <td>0</td>\n",
       "    </tr>\n",
       "    <tr>\n",
       "      <th>4</th>\n",
       "      <td>dear spotify why do i get songs that i didn't ...</td>\n",
       "      <td>1</td>\n",
       "      <td>1</td>\n",
       "      <td>0</td>\n",
       "    </tr>\n",
       "    <tr>\n",
       "      <th>...</th>\n",
       "      <td>...</td>\n",
       "      <td>...</td>\n",
       "      <td>...</td>\n",
       "      <td>...</td>\n",
       "    </tr>\n",
       "    <tr>\n",
       "      <th>61589</th>\n",
       "      <td>even though it was communicated that lyrics fe...</td>\n",
       "      <td>1</td>\n",
       "      <td>6</td>\n",
       "      <td>0</td>\n",
       "    </tr>\n",
       "    <tr>\n",
       "      <th>61590</th>\n",
       "      <td>use to be sooo good back when i had it, and wh...</td>\n",
       "      <td>1</td>\n",
       "      <td>0</td>\n",
       "      <td>0</td>\n",
       "    </tr>\n",
       "    <tr>\n",
       "      <th>61591</th>\n",
       "      <td>this app would be good if not for it taking ov...</td>\n",
       "      <td>2</td>\n",
       "      <td>10</td>\n",
       "      <td>0</td>\n",
       "    </tr>\n",
       "    <tr>\n",
       "      <th>61592</th>\n",
       "      <td>the app is good hard to navigate and won't jus...</td>\n",
       "      <td>2</td>\n",
       "      <td>1</td>\n",
       "      <td>0</td>\n",
       "    </tr>\n",
       "    <tr>\n",
       "      <th>61593</th>\n",
       "      <td>its good but sometimes it doesnt load the musi...</td>\n",
       "      <td>4</td>\n",
       "      <td>0</td>\n",
       "      <td>0</td>\n",
       "    </tr>\n",
       "  </tbody>\n",
       "</table>\n",
       "<p>61594 rows × 4 columns</p>\n",
       "</div>"
      ],
      "text/plain": [
       "                                                  review  rating  \\\n",
       "0      great music service, the audio is high quality...       5   \n",
       "1      please ignore previous negative rating. this a...       5   \n",
       "2      this pop-up \"get the best spotify experience o...       4   \n",
       "3        really buggy and terrible to use as of recently       1   \n",
       "4      dear spotify why do i get songs that i didn't ...       1   \n",
       "...                                                  ...     ...   \n",
       "61589  even though it was communicated that lyrics fe...       1   \n",
       "61590  use to be sooo good back when i had it, and wh...       1   \n",
       "61591  this app would be good if not for it taking ov...       2   \n",
       "61592  the app is good hard to navigate and won't jus...       2   \n",
       "61593  its good but sometimes it doesnt load the musi...       4   \n",
       "\n",
       "       total_thumbs_up  replied  \n",
       "0                    2        0  \n",
       "1                    1        0  \n",
       "2                    0        0  \n",
       "3                    1        0  \n",
       "4                    1        0  \n",
       "...                ...      ...  \n",
       "61589                6        0  \n",
       "61590                0        0  \n",
       "61591               10        0  \n",
       "61592                1        0  \n",
       "61593                0        0  \n",
       "\n",
       "[61594 rows x 4 columns]"
      ]
     },
     "execution_count": 15,
     "metadata": {},
     "output_type": "execute_result"
    }
   ],
   "source": [
    "spotify_df"
   ]
  },
  {
   "cell_type": "code",
   "execution_count": 16,
   "metadata": {},
   "outputs": [],
   "source": [
    "# creating a new Series object that has our processed,tokenized text \n",
    "normalized_corpus = spotify_df.review.apply(process_doc)"
   ]
  },
  {
   "cell_type": "code",
   "execution_count": 17,
   "metadata": {},
   "outputs": [
    {
     "data": {
      "text/plain": [
       "0        [great, music, service, audio, high, quality, ...\n",
       "1        [please, ignore, previous, negative, rating, a...\n",
       "2        [get, best, spotify, experience, android, anno...\n",
       "3                 [really, buggy, terrible, use, recently]\n",
       "4        [dear, spotify, get, song, put, playlist, shuf...\n",
       "                               ...                        \n",
       "61589    [even, communicate, lyric, feature, available,...\n",
       "61590    [use, sooo, good, back, download, free, versio...\n",
       "61591    [app, good, take, device, start, comp, spotify...\n",
       "61592    [app, good, hard, navigate, let, play, song, c...\n",
       "61593    [good, sometimes, doesnt, load, music, play, s...\n",
       "Name: review, Length: 61594, dtype: object"
      ]
     },
     "execution_count": 17,
     "metadata": {},
     "output_type": "execute_result"
    }
   ],
   "source": [
    "# seeing our new corpus \n",
    "normalized_corpus"
   ]
  },
  {
   "cell_type": "code",
   "execution_count": 21,
   "metadata": {},
   "outputs": [],
   "source": [
    "# exporting corpus for lda topic modeling\n",
    "# normalized_corpus.to_csv('data/review-corpus.csv',index=False)"
   ]
  },
  {
   "cell_type": "code",
   "execution_count": 22,
   "metadata": {},
   "outputs": [
    {
     "data": {
      "text/plain": [
       "19451"
      ]
     },
     "execution_count": 22,
     "metadata": {},
     "output_type": "execute_result"
    }
   ],
   "source": [
    "# flattening our corpus to see how many unique tokens we have \n",
    "flattened_corpus = pd.Series(list(itertools.chain(*normalized_corpus)))\n",
    "\n",
    "# amount of unique tokens\n",
    "len(flattened_corpus.unique())"
   ]
  },
  {
   "cell_type": "code",
   "execution_count": 32,
   "metadata": {},
   "outputs": [
    {
     "name": "stdout",
     "output_type": "stream",
     "text": [
      "['great', 'music', 'service', 'audio', 'high', 'quality', 'app', 'easy', 'use', 'also', 'quick', 'friendly', 'support']\n"
     ]
    }
   ],
   "source": [
    "print(normalized_corpus.iloc[0])"
   ]
  },
  {
   "cell_type": "markdown",
   "metadata": {},
   "source": [
    "Let's look at the frequency distribution for our flattened corpus!"
   ]
  },
  {
   "cell_type": "code",
   "execution_count": 62,
   "metadata": {},
   "outputs": [
    {
     "data": {
      "text/plain": [
       "[('app', 34869),\n",
       " ('song', 32689),\n",
       " ('music', 25725),\n",
       " ('play', 19226),\n",
       " ('spotify', 18936),\n",
       " ('listen', 12910),\n",
       " ('use', 11473),\n",
       " ('ad', 10399),\n",
       " ('playlist', 9963),\n",
       " ('get', 9926)]"
      ]
     },
     "execution_count": 62,
     "metadata": {},
     "output_type": "execute_result"
    }
   ],
   "source": [
    "# seeing the ten most common words in our flattened corpus \n",
    "fdist = FreqDist(flattened_corpus)\n",
    "fdist.most_common(10)"
   ]
  },
  {
   "cell_type": "code",
   "execution_count": 113,
   "metadata": {},
   "outputs": [
    {
     "data": {
      "text/plain": [
       "[('aslways', 1),\n",
       " ('descoverd', 1),\n",
       " ('unonstalling', 1),\n",
       " ('basicly', 1),\n",
       " ('favourties', 1),\n",
       " ('autovolume', 1),\n",
       " ('zambia', 1),\n",
       " ('frkng', 1),\n",
       " ('strenght', 1),\n",
       " ('needy', 1)]"
      ]
     },
     "execution_count": 113,
     "metadata": {},
     "output_type": "execute_result"
    }
   ],
   "source": [
    "# seeing the ten least common words in our flattened_corpus \n",
    "fdist.most_common()[-10:]"
   ]
  },
  {
   "cell_type": "code",
   "execution_count": 117,
   "metadata": {},
   "outputs": [
    {
     "data": {
      "text/plain": [
       "14776"
      ]
     },
     "execution_count": 117,
     "metadata": {},
     "output_type": "execute_result"
    }
   ],
   "source": [
    "# number of tokens with less than five occurances \n",
    "(flattened_corpus.value_counts() < 5).sum()"
   ]
  },
  {
   "cell_type": "code",
   "execution_count": 55,
   "metadata": {},
   "outputs": [
    {
     "data": {
      "text/plain": [
       "0        great music service audio high quality app eas...\n",
       "1        please ignore previous negative rating app sup...\n",
       "2        get best spotify experience android annoy plea...\n",
       "3                       really buggy terrible use recently\n",
       "4          dear spotify get song put playlist shuffle play\n",
       "                               ...                        \n",
       "61589    even communicate lyric feature available user ...\n",
       "61590    use sooo good back download free version pick ...\n",
       "61591    app good take device start comp spotify start ...\n",
       "61592    app good hard navigate let play song click pla...\n",
       "61593    good sometimes doesnt load music play second s...\n",
       "Name: review, Length: 61594, dtype: object"
      ]
     },
     "execution_count": 55,
     "metadata": {},
     "output_type": "execute_result"
    }
   ],
   "source": [
    "flat_corpus = normalized_corpus.apply(\n",
    "    \" \".join)\n",
    "flat_corpus"
   ]
  },
  {
   "cell_type": "markdown",
   "metadata": {},
   "source": [
    "We now have a flattened corpus however we still have ~14k tokens with less than 5 occurrences so we will need to further clean it up when we vectorize. "
   ]
  },
  {
   "cell_type": "markdown",
   "metadata": {},
   "source": [
    "## VADER Sentiment Analysis"
   ]
  },
  {
   "cell_type": "markdown",
   "metadata": {},
   "source": [
    "In order to create a binary classification problem, we will use VADER `SentimentIntensityAnalyzer` to extract the polarity scores and use the composite score to generate class labels "
   ]
  },
  {
   "cell_type": "code",
   "execution_count": 121,
   "metadata": {},
   "outputs": [],
   "source": [
    "# instantiating our SentimentIntensityAnalyzer\n",
    "sent = SentimentIntensityAnalyzer()"
   ]
  },
  {
   "cell_type": "markdown",
   "metadata": {},
   "source": [
    "Let's get the sentiment for our randomly selected review to better understand what `SentimentIntensityAnalyzer()` does"
   ]
  },
  {
   "cell_type": "code",
   "execution_count": 123,
   "metadata": {
    "scrolled": true
   },
   "outputs": [
    {
     "name": "stdout",
     "output_type": "stream",
     "text": [
      "Original Review:\n",
      "after the latest update it keeps glitching, sometimes it doesnt work at all, and stopped working on my android auto,tried uninstalling and reinstalling but still does the same\n",
      "\n",
      "\n",
      "VADER SIA output\n"
     ]
    },
    {
     "data": {
      "text/plain": [
       "{'neg': 0.051, 'neu': 0.949, 'pos': 0.0, 'compound': -0.1154}"
      ]
     },
     "execution_count": 123,
     "metadata": {},
     "output_type": "execute_result"
    }
   ],
   "source": [
    "print('Original Review:')\n",
    "print(first_review)\n",
    "print('\\n')\n",
    "print('VADER SIA output')\n",
    "sent.polarity_scores(first_review)"
   ]
  },
  {
   "cell_type": "markdown",
   "metadata": {},
   "source": [
    "For our first review, VADER generated the polarity across three different metrics: `neg`, `neu`, and `pos`. `compound` represents the sum of all scores normalized between -1 and 1. Looking at the `compound` score, we can see that this particular review is most likely a negative review."
   ]
  },
  {
   "cell_type": "markdown",
   "metadata": {},
   "source": [
    "We'll use VADER to calculate the compound scores for each review and then use the `compound` score to map out our class labels"
   ]
  },
  {
   "cell_type": "code",
   "execution_count": 127,
   "metadata": {},
   "outputs": [],
   "source": [
    "# creating a function that extracts each score and appends them to a list \n",
    "score_comp = []\n",
    "score_pos = []\n",
    "score_neg = []\n",
    "sent = SentimentIntensityAnalyzer()\n",
    "for i in range(0,spotify_df.shape[0]):\n",
    "    score = sent.polarity_scores(spotify_df.iloc[i][0])\n",
    "    compound_score = score['compound']\n",
    "    score_comp.append(compound_score)\n",
    "    # extracting positive sentiment \n",
    "    pos_score = score['pos']\n",
    "    score_pos.append(pos_score)\n",
    "    # extracting negative sentiment \n",
    "    neg_score = score['neg']\n",
    "    score_neg.append(neg_score)"
   ]
  },
  {
   "cell_type": "code",
   "execution_count": 154,
   "metadata": {},
   "outputs": [],
   "source": [
    "# creating new columns in our original dataframe that maps the VADER results\n",
    "spotify_df['comp_score'] = score_comp\n",
    "spotify_df['pos_score'] = score_pos\n",
    "spotify_df['neg_score'] = score_neg"
   ]
  },
  {
   "cell_type": "code",
   "execution_count": 155,
   "metadata": {},
   "outputs": [
    {
     "data": {
      "text/html": [
       "<div>\n",
       "<style scoped>\n",
       "    .dataframe tbody tr th:only-of-type {\n",
       "        vertical-align: middle;\n",
       "    }\n",
       "\n",
       "    .dataframe tbody tr th {\n",
       "        vertical-align: top;\n",
       "    }\n",
       "\n",
       "    .dataframe thead th {\n",
       "        text-align: right;\n",
       "    }\n",
       "</style>\n",
       "<table border=\"1\" class=\"dataframe\">\n",
       "  <thead>\n",
       "    <tr style=\"text-align: right;\">\n",
       "      <th></th>\n",
       "      <th>review</th>\n",
       "      <th>rating</th>\n",
       "      <th>total_thumbs_up</th>\n",
       "      <th>replied</th>\n",
       "      <th>comp_score</th>\n",
       "      <th>pos_score</th>\n",
       "      <th>neg_score</th>\n",
       "    </tr>\n",
       "  </thead>\n",
       "  <tbody>\n",
       "    <tr>\n",
       "      <th>0</th>\n",
       "      <td>great music service, the audio is high quality...</td>\n",
       "      <td>5</td>\n",
       "      <td>2</td>\n",
       "      <td>0</td>\n",
       "      <td>0.9211</td>\n",
       "      <td>0.436</td>\n",
       "      <td>0.000</td>\n",
       "    </tr>\n",
       "    <tr>\n",
       "      <th>1</th>\n",
       "      <td>please ignore previous negative rating. this a...</td>\n",
       "      <td>5</td>\n",
       "      <td>1</td>\n",
       "      <td>0</td>\n",
       "      <td>0.6249</td>\n",
       "      <td>0.404</td>\n",
       "      <td>0.243</td>\n",
       "    </tr>\n",
       "    <tr>\n",
       "      <th>2</th>\n",
       "      <td>this pop-up \"get the best spotify experience o...</td>\n",
       "      <td>4</td>\n",
       "      <td>0</td>\n",
       "      <td>0</td>\n",
       "      <td>0.5859</td>\n",
       "      <td>0.258</td>\n",
       "      <td>0.107</td>\n",
       "    </tr>\n",
       "    <tr>\n",
       "      <th>3</th>\n",
       "      <td>really buggy and terrible to use as of recently</td>\n",
       "      <td>1</td>\n",
       "      <td>1</td>\n",
       "      <td>0</td>\n",
       "      <td>-0.5209</td>\n",
       "      <td>0.000</td>\n",
       "      <td>0.296</td>\n",
       "    </tr>\n",
       "    <tr>\n",
       "      <th>4</th>\n",
       "      <td>dear spotify why do i get songs that i didn't ...</td>\n",
       "      <td>1</td>\n",
       "      <td>1</td>\n",
       "      <td>0</td>\n",
       "      <td>0.7149</td>\n",
       "      <td>0.260</td>\n",
       "      <td>0.000</td>\n",
       "    </tr>\n",
       "  </tbody>\n",
       "</table>\n",
       "</div>"
      ],
      "text/plain": [
       "                                              review  rating  total_thumbs_up  \\\n",
       "0  great music service, the audio is high quality...       5                2   \n",
       "1  please ignore previous negative rating. this a...       5                1   \n",
       "2  this pop-up \"get the best spotify experience o...       4                0   \n",
       "3    really buggy and terrible to use as of recently       1                1   \n",
       "4  dear spotify why do i get songs that i didn't ...       1                1   \n",
       "\n",
       "   replied  comp_score  pos_score  neg_score  \n",
       "0        0      0.9211      0.436      0.000  \n",
       "1        0      0.6249      0.404      0.243  \n",
       "2        0      0.5859      0.258      0.107  \n",
       "3        0     -0.5209      0.000      0.296  \n",
       "4        0      0.7149      0.260      0.000  "
      ]
     },
     "execution_count": 155,
     "metadata": {},
     "output_type": "execute_result"
    }
   ],
   "source": [
    "# viewing updated dataframe\n",
    "spotify_df.head()"
   ]
  },
  {
   "cell_type": "code",
   "execution_count": 160,
   "metadata": {},
   "outputs": [
    {
     "data": {
      "text/html": [
       "<div>\n",
       "<style scoped>\n",
       "    .dataframe tbody tr th:only-of-type {\n",
       "        vertical-align: middle;\n",
       "    }\n",
       "\n",
       "    .dataframe tbody tr th {\n",
       "        vertical-align: top;\n",
       "    }\n",
       "\n",
       "    .dataframe thead th {\n",
       "        text-align: right;\n",
       "    }\n",
       "</style>\n",
       "<table border=\"1\" class=\"dataframe\">\n",
       "  <thead>\n",
       "    <tr style=\"text-align: right;\">\n",
       "      <th></th>\n",
       "      <th>review</th>\n",
       "      <th>rating</th>\n",
       "      <th>total_thumbs_up</th>\n",
       "      <th>replied</th>\n",
       "      <th>comp_score</th>\n",
       "      <th>pos_score</th>\n",
       "      <th>neg_score</th>\n",
       "    </tr>\n",
       "  </thead>\n",
       "  <tbody>\n",
       "    <tr>\n",
       "      <th>22</th>\n",
       "      <td>i logged out on my acc but when i tried to ope...</td>\n",
       "      <td>3</td>\n",
       "      <td>0</td>\n",
       "      <td>0</td>\n",
       "      <td>0.0</td>\n",
       "      <td>0.000</td>\n",
       "      <td>0.000</td>\n",
       "    </tr>\n",
       "    <tr>\n",
       "      <th>29</th>\n",
       "      <td>everything is perfect... just add light theme</td>\n",
       "      <td>4</td>\n",
       "      <td>0</td>\n",
       "      <td>0</td>\n",
       "      <td>0.0</td>\n",
       "      <td>0.000</td>\n",
       "      <td>0.000</td>\n",
       "    </tr>\n",
       "    <tr>\n",
       "      <th>33</th>\n",
       "      <td>am unable to use on my ph .....it gets downloa...</td>\n",
       "      <td>1</td>\n",
       "      <td>0</td>\n",
       "      <td>0</td>\n",
       "      <td>0.0</td>\n",
       "      <td>0.000</td>\n",
       "      <td>0.000</td>\n",
       "    </tr>\n",
       "    <tr>\n",
       "      <th>39</th>\n",
       "      <td>wide range of songs collection</td>\n",
       "      <td>5</td>\n",
       "      <td>0</td>\n",
       "      <td>0</td>\n",
       "      <td>0.0</td>\n",
       "      <td>0.000</td>\n",
       "      <td>0.000</td>\n",
       "    </tr>\n",
       "    <tr>\n",
       "      <th>43</th>\n",
       "      <td>my account was glitching so i logged out to tr...</td>\n",
       "      <td>2</td>\n",
       "      <td>0</td>\n",
       "      <td>0</td>\n",
       "      <td>0.0</td>\n",
       "      <td>0.000</td>\n",
       "      <td>0.000</td>\n",
       "    </tr>\n",
       "    <tr>\n",
       "      <th>...</th>\n",
       "      <td>...</td>\n",
       "      <td>...</td>\n",
       "      <td>...</td>\n",
       "      <td>...</td>\n",
       "      <td>...</td>\n",
       "      <td>...</td>\n",
       "      <td>...</td>\n",
       "    </tr>\n",
       "    <tr>\n",
       "      <th>61170</th>\n",
       "      <td>the current ui needs work. there's certain ele...</td>\n",
       "      <td>3</td>\n",
       "      <td>93</td>\n",
       "      <td>0</td>\n",
       "      <td>-0.0</td>\n",
       "      <td>0.136</td>\n",
       "      <td>0.097</td>\n",
       "    </tr>\n",
       "    <tr>\n",
       "      <th>61221</th>\n",
       "      <td>it pauses itself in between songs until i turn...</td>\n",
       "      <td>4</td>\n",
       "      <td>0</td>\n",
       "      <td>0</td>\n",
       "      <td>0.0</td>\n",
       "      <td>0.000</td>\n",
       "      <td>0.000</td>\n",
       "    </tr>\n",
       "    <tr>\n",
       "      <th>61285</th>\n",
       "      <td>still doesn't recognise local files, wastes da...</td>\n",
       "      <td>4</td>\n",
       "      <td>0</td>\n",
       "      <td>0</td>\n",
       "      <td>0.0</td>\n",
       "      <td>0.000</td>\n",
       "      <td>0.000</td>\n",
       "    </tr>\n",
       "    <tr>\n",
       "      <th>61343</th>\n",
       "      <td>the decision to \"retire\" car view without a re...</td>\n",
       "      <td>1</td>\n",
       "      <td>3</td>\n",
       "      <td>0</td>\n",
       "      <td>0.0</td>\n",
       "      <td>0.000</td>\n",
       "      <td>0.000</td>\n",
       "    </tr>\n",
       "    <tr>\n",
       "      <th>61551</th>\n",
       "      <td>the app keeps crashing- i've reinstalled, rest...</td>\n",
       "      <td>1</td>\n",
       "      <td>1</td>\n",
       "      <td>0</td>\n",
       "      <td>0.0</td>\n",
       "      <td>0.000</td>\n",
       "      <td>0.000</td>\n",
       "    </tr>\n",
       "  </tbody>\n",
       "</table>\n",
       "<p>4021 rows × 7 columns</p>\n",
       "</div>"
      ],
      "text/plain": [
       "                                                  review  rating  \\\n",
       "22     i logged out on my acc but when i tried to ope...       3   \n",
       "29         everything is perfect... just add light theme       4   \n",
       "33     am unable to use on my ph .....it gets downloa...       1   \n",
       "39                        wide range of songs collection       5   \n",
       "43     my account was glitching so i logged out to tr...       2   \n",
       "...                                                  ...     ...   \n",
       "61170  the current ui needs work. there's certain ele...       3   \n",
       "61221  it pauses itself in between songs until i turn...       4   \n",
       "61285  still doesn't recognise local files, wastes da...       4   \n",
       "61343  the decision to \"retire\" car view without a re...       1   \n",
       "61551  the app keeps crashing- i've reinstalled, rest...       1   \n",
       "\n",
       "       total_thumbs_up  replied  comp_score  pos_score  neg_score  \n",
       "22                   0        0         0.0      0.000      0.000  \n",
       "29                   0        0         0.0      0.000      0.000  \n",
       "33                   0        0         0.0      0.000      0.000  \n",
       "39                   0        0         0.0      0.000      0.000  \n",
       "43                   0        0         0.0      0.000      0.000  \n",
       "...                ...      ...         ...        ...        ...  \n",
       "61170               93        0        -0.0      0.136      0.097  \n",
       "61221                0        0         0.0      0.000      0.000  \n",
       "61285                0        0         0.0      0.000      0.000  \n",
       "61343                3        0         0.0      0.000      0.000  \n",
       "61551                1        0         0.0      0.000      0.000  \n",
       "\n",
       "[4021 rows x 7 columns]"
      ]
     },
     "execution_count": 160,
     "metadata": {},
     "output_type": "execute_result"
    }
   ],
   "source": [
    "spotify_df.loc[spotify_df.comp_score == 0]"
   ]
  },
  {
   "cell_type": "code",
   "execution_count": 166,
   "metadata": {},
   "outputs": [],
   "source": [
    "pos_mask = spotify_df.loc[:, 'comp_score'] > 0\n",
    "neg_mask = spotify_df.loc[:, 'comp_score'] < 0\n",
    "neutral_mask = spotify_df.loc[:, 'comp_score'] == 0"
   ]
  },
  {
   "cell_type": "code",
   "execution_count": 167,
   "metadata": {
    "scrolled": false
   },
   "outputs": [
    {
     "name": "stdout",
     "output_type": "stream",
     "text": [
      "Number of Positive Reviews:\n",
      "40065\n",
      "\n",
      "\n",
      "Number of Negative Reviews:\n",
      "17508\n",
      "\n",
      "\n",
      "Number of Neutral Reviews:\n",
      "4021\n"
     ]
    }
   ],
   "source": [
    "print(f'Number of Positive Reviews:')\n",
    "print(len(spotify_df[pos_mask]))\n",
    "print('\\n')\n",
    "print(f'Number of Negative Reviews:')\n",
    "print(len(spotify_df[neg_mask]))\n",
    "print('\\n')\n",
    "print(f'Number of Neutral Reviews:')\n",
    "print(len(spotify_df[neutral_mask]))"
   ]
  },
  {
   "cell_type": "markdown",
   "metadata": {},
   "source": [
    "**INSERT TEXT HERE**"
   ]
  },
  {
   "cell_type": "code",
   "execution_count": 194,
   "metadata": {},
   "outputs": [],
   "source": [
    "# creating a helper function that takes the compound scores for each record and generates the correct sentiment label\n",
    "def sentiment_labels(score):\n",
    "    if score > 0: \n",
    "        return 'pos'\n",
    "    elif score < 0:\n",
    "        return 'neg'\n",
    "    else: \n",
    "        return 'neutral'"
   ]
  },
  {
   "cell_type": "code",
   "execution_count": 212,
   "metadata": {},
   "outputs": [],
   "source": [
    "# creating new column that contains our sentiment labels\n",
    "spotify_df['sentiment'] = spotify_df.comp_score.apply(sentiment_labels)"
   ]
  },
  {
   "cell_type": "code",
   "execution_count": 217,
   "metadata": {},
   "outputs": [
    {
     "data": {
      "text/html": [
       "<div>\n",
       "<style scoped>\n",
       "    .dataframe tbody tr th:only-of-type {\n",
       "        vertical-align: middle;\n",
       "    }\n",
       "\n",
       "    .dataframe tbody tr th {\n",
       "        vertical-align: top;\n",
       "    }\n",
       "\n",
       "    .dataframe thead th {\n",
       "        text-align: right;\n",
       "    }\n",
       "</style>\n",
       "<table border=\"1\" class=\"dataframe\">\n",
       "  <thead>\n",
       "    <tr style=\"text-align: right;\">\n",
       "      <th></th>\n",
       "      <th>review</th>\n",
       "      <th>rating</th>\n",
       "      <th>total_thumbs_up</th>\n",
       "      <th>replied</th>\n",
       "      <th>comp_score</th>\n",
       "      <th>pos_score</th>\n",
       "      <th>neg_score</th>\n",
       "      <th>sentiment</th>\n",
       "    </tr>\n",
       "  </thead>\n",
       "  <tbody>\n",
       "    <tr>\n",
       "      <th>0</th>\n",
       "      <td>great music service, the audio is high quality...</td>\n",
       "      <td>5</td>\n",
       "      <td>2</td>\n",
       "      <td>0</td>\n",
       "      <td>0.9211</td>\n",
       "      <td>0.436</td>\n",
       "      <td>0.000</td>\n",
       "      <td>pos</td>\n",
       "    </tr>\n",
       "    <tr>\n",
       "      <th>1</th>\n",
       "      <td>please ignore previous negative rating. this a...</td>\n",
       "      <td>5</td>\n",
       "      <td>1</td>\n",
       "      <td>0</td>\n",
       "      <td>0.6249</td>\n",
       "      <td>0.404</td>\n",
       "      <td>0.243</td>\n",
       "      <td>pos</td>\n",
       "    </tr>\n",
       "    <tr>\n",
       "      <th>2</th>\n",
       "      <td>this pop-up \"get the best spotify experience o...</td>\n",
       "      <td>4</td>\n",
       "      <td>0</td>\n",
       "      <td>0</td>\n",
       "      <td>0.5859</td>\n",
       "      <td>0.258</td>\n",
       "      <td>0.107</td>\n",
       "      <td>pos</td>\n",
       "    </tr>\n",
       "    <tr>\n",
       "      <th>3</th>\n",
       "      <td>really buggy and terrible to use as of recently</td>\n",
       "      <td>1</td>\n",
       "      <td>1</td>\n",
       "      <td>0</td>\n",
       "      <td>-0.5209</td>\n",
       "      <td>0.000</td>\n",
       "      <td>0.296</td>\n",
       "      <td>neg</td>\n",
       "    </tr>\n",
       "    <tr>\n",
       "      <th>4</th>\n",
       "      <td>dear spotify why do i get songs that i didn't ...</td>\n",
       "      <td>1</td>\n",
       "      <td>1</td>\n",
       "      <td>0</td>\n",
       "      <td>0.7149</td>\n",
       "      <td>0.260</td>\n",
       "      <td>0.000</td>\n",
       "      <td>pos</td>\n",
       "    </tr>\n",
       "  </tbody>\n",
       "</table>\n",
       "</div>"
      ],
      "text/plain": [
       "                                              review  rating  total_thumbs_up  \\\n",
       "0  great music service, the audio is high quality...       5                2   \n",
       "1  please ignore previous negative rating. this a...       5                1   \n",
       "2  this pop-up \"get the best spotify experience o...       4                0   \n",
       "3    really buggy and terrible to use as of recently       1                1   \n",
       "4  dear spotify why do i get songs that i didn't ...       1                1   \n",
       "\n",
       "   replied  comp_score  pos_score  neg_score sentiment  \n",
       "0        0      0.9211      0.436      0.000       pos  \n",
       "1        0      0.6249      0.404      0.243       pos  \n",
       "2        0      0.5859      0.258      0.107       pos  \n",
       "3        0     -0.5209      0.000      0.296       neg  \n",
       "4        0      0.7149      0.260      0.000       pos  "
      ]
     },
     "execution_count": 217,
     "metadata": {},
     "output_type": "execute_result"
    }
   ],
   "source": [
    "# previewing dataframe\n",
    "spotify_df.head()"
   ]
  },
  {
   "cell_type": "markdown",
   "metadata": {},
   "source": [
    "## Exporting Processed Data"
   ]
  },
  {
   "cell_type": "code",
   "execution_count": 218,
   "metadata": {},
   "outputs": [],
   "source": [
    "# exporting our preprocessed data which contains our VADER sentiment analysis score and new class labels \n",
    "spotify_df.to_csv('data/preprocessed-reviews.csv',index=False)"
   ]
  },
  {
   "cell_type": "code",
   "execution_count": 219,
   "metadata": {},
   "outputs": [],
   "source": [
    "# exporting our flattened corpus ready for vectorization \n",
    "flat_corpus.to_csv('data/spotify-reviews.csv',index=False)"
   ]
  },
  {
   "cell_type": "markdown",
   "metadata": {},
   "source": [
    "# Review"
   ]
  },
  {
   "cell_type": "code",
   "execution_count": 27,
   "metadata": {},
   "outputs": [],
   "source": [
    "from spellchecker import SpellChecker"
   ]
  },
  {
   "cell_type": "code",
   "execution_count": 28,
   "metadata": {},
   "outputs": [],
   "source": [
    "from textblob import TextBlob"
   ]
  },
  {
   "cell_type": "code",
   "execution_count": 29,
   "metadata": {},
   "outputs": [
    {
     "data": {
      "text/plain": [
       "0        great music service, the audio is high quality...\n",
       "1        please ignore previous negative rating. this a...\n",
       "2        this pop-up \"get the best spotify experience o...\n",
       "3          really buggy and terrible to use as of recently\n",
       "4        dear spotify why do i get songs that i didn't ...\n",
       "                               ...                        \n",
       "61589    even though it was communicated that lyrics fe...\n",
       "61590    use to be sooo good back when i had it, and wh...\n",
       "61591    this app would be good if not for it taking ov...\n",
       "61592    the app is good hard to navigate and won't jus...\n",
       "61593    its good but sometimes it doesnt load the musi...\n",
       "Name: review, Length: 61594, dtype: object"
      ]
     },
     "execution_count": 29,
     "metadata": {},
     "output_type": "execute_result"
    }
   ],
   "source": [
    "spotify_df.review"
   ]
  },
  {
   "cell_type": "code",
   "execution_count": 363,
   "metadata": {},
   "outputs": [
    {
     "name": "stdout",
     "output_type": "stream",
     "text": [
      "3892\n"
     ]
    }
   ],
   "source": [
    "spell = SpellChecker()\n",
    "misspelled = spell.unknown(spotify_df.review)\n",
    "print(len(misspelled))"
   ]
  },
  {
   "cell_type": "code",
   "execution_count": 94,
   "metadata": {},
   "outputs": [],
   "source": [
    "def correct_text(sent):\n",
    "    blob = TextBlob(str(sent))\n",
    "    correct_blob = blob.correct()\n",
    "    return correct_blob"
   ]
  },
  {
   "cell_type": "code",
   "execution_count": 96,
   "metadata": {},
   "outputs": [],
   "source": [
    "test_toks = flattened_toks.values[-5::]\n",
    "#test_blob = TextBlob(test_toks)\n",
    "#correct_blob = test_blob.correct()\n",
    "#print(correct_blob)"
   ]
  },
  {
   "cell_type": "code",
   "execution_count": 121,
   "metadata": {},
   "outputs": [
    {
     "data": {
      "text/plain": [
       "896159          need\n",
       "896160          play\n",
       "896161          song\n",
       "896162         click\n",
       "896163          good\n",
       "896164     sometimes\n",
       "896165        doesnt\n",
       "896166          load\n",
       "896167         music\n",
       "896168          play\n",
       "896169        second\n",
       "896170          song\n",
       "896171          stop\n",
       "896172           say\n",
       "896173    connection\n",
       "896174        diesnt\n",
       "896175          work\n",
       "896176          time\n",
       "896177          work\n",
       "896178         great\n",
       "dtype: object"
      ]
     },
     "execution_count": 121,
     "metadata": {},
     "output_type": "execute_result"
    }
   ],
   "source": [
    "first_five = flattened_toks[-20::]\n",
    "first_five\n",
    "#first_five.apply(lambda x: str(TextBlob(x).correct()))"
   ]
  },
  {
   "cell_type": "code",
   "execution_count": 97,
   "metadata": {},
   "outputs": [
    {
     "data": {
      "text/plain": [
       "TextBlob(\"['doesn' 'work' 'time' 'work' 'great']\")"
      ]
     },
     "execution_count": 97,
     "metadata": {},
     "output_type": "execute_result"
    }
   ],
   "source": [
    "correct_text(test_toks)"
   ]
  },
  {
   "cell_type": "code",
   "execution_count": 39,
   "metadata": {},
   "outputs": [],
   "source": [
    "#misspelled_toks = TextBlob(misspelled_toks)\n",
    "#corrected = misspelled_toks.correct()\n",
    "#print(corrected)"
   ]
  },
  {
   "cell_type": "code",
   "execution_count": 43,
   "metadata": {},
   "outputs": [
    {
     "data": {
      "text/html": [
       "<div>\n",
       "<style scoped>\n",
       "    .dataframe tbody tr th:only-of-type {\n",
       "        vertical-align: middle;\n",
       "    }\n",
       "\n",
       "    .dataframe tbody tr th {\n",
       "        vertical-align: top;\n",
       "    }\n",
       "\n",
       "    .dataframe thead th {\n",
       "        text-align: right;\n",
       "    }\n",
       "</style>\n",
       "<table border=\"1\" class=\"dataframe\">\n",
       "  <thead>\n",
       "    <tr style=\"text-align: right;\">\n",
       "      <th></th>\n",
       "      <th>review</th>\n",
       "      <th>rating</th>\n",
       "      <th>total_thumbs_up</th>\n",
       "      <th>reply</th>\n",
       "      <th>replied</th>\n",
       "      <th>tok_norm</th>\n",
       "    </tr>\n",
       "  </thead>\n",
       "  <tbody>\n",
       "    <tr>\n",
       "      <th>23736</th>\n",
       "      <td>the best app for playlist but worst while logi...</td>\n",
       "      <td>1</td>\n",
       "      <td>0</td>\n",
       "      <td>NaN</td>\n",
       "      <td>0</td>\n",
       "      <td>[best, app, playlist, worst, loging, everytime...</td>\n",
       "    </tr>\n",
       "  </tbody>\n",
       "</table>\n",
       "</div>"
      ],
      "text/plain": [
       "                                                  review  rating  \\\n",
       "23736  the best app for playlist but worst while logi...       1   \n",
       "\n",
       "       total_thumbs_up reply  replied  \\\n",
       "23736                0   NaN        0   \n",
       "\n",
       "                                                tok_norm  \n",
       "23736  [best, app, playlist, worst, loging, everytime...  "
      ]
     },
     "execution_count": 43,
     "metadata": {},
     "output_type": "execute_result"
    }
   ],
   "source": [
    "spotify_df[spotify_df.review.str.contains('prob😕')]"
   ]
  },
  {
   "cell_type": "code",
   "execution_count": 125,
   "metadata": {},
   "outputs": [
    {
     "data": {
      "text/html": [
       "<div>\n",
       "<style scoped>\n",
       "    .dataframe tbody tr th:only-of-type {\n",
       "        vertical-align: middle;\n",
       "    }\n",
       "\n",
       "    .dataframe tbody tr th {\n",
       "        vertical-align: top;\n",
       "    }\n",
       "\n",
       "    .dataframe thead th {\n",
       "        text-align: right;\n",
       "    }\n",
       "</style>\n",
       "<table border=\"1\" class=\"dataframe\">\n",
       "  <thead>\n",
       "    <tr style=\"text-align: right;\">\n",
       "      <th></th>\n",
       "      <th>review</th>\n",
       "      <th>rating</th>\n",
       "      <th>total_thumbs_up</th>\n",
       "      <th>reply</th>\n",
       "      <th>replied</th>\n",
       "      <th>process_tok</th>\n",
       "    </tr>\n",
       "  </thead>\n",
       "  <tbody>\n",
       "    <tr>\n",
       "      <th>0</th>\n",
       "      <td>great music service, the audio is high quality...</td>\n",
       "      <td>5</td>\n",
       "      <td>2</td>\n",
       "      <td>NaN</td>\n",
       "      <td>0</td>\n",
       "      <td>[great, music, service, audio, high, quality, ...</td>\n",
       "    </tr>\n",
       "    <tr>\n",
       "      <th>1</th>\n",
       "      <td>please ignore previous negative rating. this a...</td>\n",
       "      <td>5</td>\n",
       "      <td>1</td>\n",
       "      <td>NaN</td>\n",
       "      <td>0</td>\n",
       "      <td>[please, ignore, previous, negative, rating, a...</td>\n",
       "    </tr>\n",
       "    <tr>\n",
       "      <th>2</th>\n",
       "      <td>this pop-up \"get the best spotify experience o...</td>\n",
       "      <td>4</td>\n",
       "      <td>0</td>\n",
       "      <td>NaN</td>\n",
       "      <td>0</td>\n",
       "      <td>[get, best, spotify, experience, android, anno...</td>\n",
       "    </tr>\n",
       "    <tr>\n",
       "      <th>3</th>\n",
       "      <td>really buggy and terrible to use as of recently</td>\n",
       "      <td>1</td>\n",
       "      <td>1</td>\n",
       "      <td>NaN</td>\n",
       "      <td>0</td>\n",
       "      <td>[really, buggy, terrible, use, recently]</td>\n",
       "    </tr>\n",
       "    <tr>\n",
       "      <th>4</th>\n",
       "      <td>dear spotify why do i get songs that i didn't ...</td>\n",
       "      <td>1</td>\n",
       "      <td>1</td>\n",
       "      <td>NaN</td>\n",
       "      <td>0</td>\n",
       "      <td>[dear, spotify, get, song, put, playlist, shuf...</td>\n",
       "    </tr>\n",
       "    <tr>\n",
       "      <th>...</th>\n",
       "      <td>...</td>\n",
       "      <td>...</td>\n",
       "      <td>...</td>\n",
       "      <td>...</td>\n",
       "      <td>...</td>\n",
       "      <td>...</td>\n",
       "    </tr>\n",
       "    <tr>\n",
       "      <th>61589</th>\n",
       "      <td>even though it was communicated that lyrics fe...</td>\n",
       "      <td>1</td>\n",
       "      <td>6</td>\n",
       "      <td>NaN</td>\n",
       "      <td>0</td>\n",
       "      <td>[even, communicate, lyric, feature, available,...</td>\n",
       "    </tr>\n",
       "    <tr>\n",
       "      <th>61590</th>\n",
       "      <td>use to be sooo good back when i had it, and wh...</td>\n",
       "      <td>1</td>\n",
       "      <td>0</td>\n",
       "      <td>NaN</td>\n",
       "      <td>0</td>\n",
       "      <td>[use, sooo, good, back, download, free, versio...</td>\n",
       "    </tr>\n",
       "    <tr>\n",
       "      <th>61591</th>\n",
       "      <td>this app would be good if not for it taking ov...</td>\n",
       "      <td>2</td>\n",
       "      <td>10</td>\n",
       "      <td>NaN</td>\n",
       "      <td>0</td>\n",
       "      <td>[app, good, take, device, start, comp, spotify...</td>\n",
       "    </tr>\n",
       "    <tr>\n",
       "      <th>61592</th>\n",
       "      <td>the app is good hard to navigate and won't jus...</td>\n",
       "      <td>2</td>\n",
       "      <td>1</td>\n",
       "      <td>NaN</td>\n",
       "      <td>0</td>\n",
       "      <td>[app, good, hard, navigate, let, play, song, c...</td>\n",
       "    </tr>\n",
       "    <tr>\n",
       "      <th>61593</th>\n",
       "      <td>its good but sometimes it doesnt load the musi...</td>\n",
       "      <td>4</td>\n",
       "      <td>0</td>\n",
       "      <td>NaN</td>\n",
       "      <td>0</td>\n",
       "      <td>[good, sometimes, doesnt, load, music, play, s...</td>\n",
       "    </tr>\n",
       "  </tbody>\n",
       "</table>\n",
       "<p>61594 rows × 6 columns</p>\n",
       "</div>"
      ],
      "text/plain": [
       "                                                  review  rating  \\\n",
       "0      great music service, the audio is high quality...       5   \n",
       "1      please ignore previous negative rating. this a...       5   \n",
       "2      this pop-up \"get the best spotify experience o...       4   \n",
       "3        really buggy and terrible to use as of recently       1   \n",
       "4      dear spotify why do i get songs that i didn't ...       1   \n",
       "...                                                  ...     ...   \n",
       "61589  even though it was communicated that lyrics fe...       1   \n",
       "61590  use to be sooo good back when i had it, and wh...       1   \n",
       "61591  this app would be good if not for it taking ov...       2   \n",
       "61592  the app is good hard to navigate and won't jus...       2   \n",
       "61593  its good but sometimes it doesnt load the musi...       4   \n",
       "\n",
       "       total_thumbs_up reply  replied  \\\n",
       "0                    2   NaN        0   \n",
       "1                    1   NaN        0   \n",
       "2                    0   NaN        0   \n",
       "3                    1   NaN        0   \n",
       "4                    1   NaN        0   \n",
       "...                ...   ...      ...   \n",
       "61589                6   NaN        0   \n",
       "61590                0   NaN        0   \n",
       "61591               10   NaN        0   \n",
       "61592                1   NaN        0   \n",
       "61593                0   NaN        0   \n",
       "\n",
       "                                             process_tok  \n",
       "0      [great, music, service, audio, high, quality, ...  \n",
       "1      [please, ignore, previous, negative, rating, a...  \n",
       "2      [get, best, spotify, experience, android, anno...  \n",
       "3               [really, buggy, terrible, use, recently]  \n",
       "4      [dear, spotify, get, song, put, playlist, shuf...  \n",
       "...                                                  ...  \n",
       "61589  [even, communicate, lyric, feature, available,...  \n",
       "61590  [use, sooo, good, back, download, free, versio...  \n",
       "61591  [app, good, take, device, start, comp, spotify...  \n",
       "61592  [app, good, hard, navigate, let, play, song, c...  \n",
       "61593  [good, sometimes, doesnt, load, music, play, s...  \n",
       "\n",
       "[61594 rows x 6 columns]"
      ]
     },
     "execution_count": 125,
     "metadata": {},
     "output_type": "execute_result"
    }
   ],
   "source": [
    "spotify_df"
   ]
  },
  {
   "cell_type": "code",
   "execution_count": 159,
   "metadata": {},
   "outputs": [
    {
     "data": {
      "text/plain": [
       "Int64Index([21827, 61593], dtype='int64')"
      ]
     },
     "execution_count": 159,
     "metadata": {},
     "output_type": "execute_result"
    }
   ],
   "source": [
    "spotify_df[spotify_df.review.str.contains('diesnt')].index"
   ]
  },
  {
   "cell_type": "code",
   "execution_count": 160,
   "metadata": {},
   "outputs": [
    {
     "data": {
      "text/plain": [
       "\"app keeps letting songs play for 10 seconds when try to select and then stops. it diesnt recognise it's in playback mode (best way i can describe). you have to turn phone off and then on to reset and make it work again. such a pain as you cant even just close and re open app to reset. incredibly infuriating.\""
      ]
     },
     "execution_count": 160,
     "metadata": {},
     "output_type": "execute_result"
    }
   ],
   "source": [
    "ninth_review = spotify_df.review[21827]\n",
    "ninth_review"
   ]
  },
  {
   "cell_type": "code",
   "execution_count": null,
   "metadata": {},
   "outputs": [],
   "source": []
  }
 ],
 "metadata": {
  "kernelspec": {
   "display_name": "Python(spotify-proj)",
   "language": "python",
   "name": "spotify-proj"
  },
  "language_info": {
   "codemirror_mode": {
    "name": "ipython",
    "version": 3
   },
   "file_extension": ".py",
   "mimetype": "text/x-python",
   "name": "python",
   "nbconvert_exporter": "python",
   "pygments_lexer": "ipython3",
   "version": "3.11.4"
  }
 },
 "nbformat": 4,
 "nbformat_minor": 5
}
