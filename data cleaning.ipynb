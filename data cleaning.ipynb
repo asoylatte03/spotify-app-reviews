{
 "cells": [
  {
   "cell_type": "code",
   "execution_count": 2,
   "id": "23b268f8",
   "metadata": {},
   "outputs": [],
   "source": [
    "# imports\n",
    "import pandas as pd\n",
    "import numpy as np"
   ]
  },
  {
   "cell_type": "code",
   "execution_count": 3,
   "id": "091037ce",
   "metadata": {},
   "outputs": [],
   "source": [
    "spotify_df = pd.read_csv('data/reviews.csv',usecols=['Review','Rating', 'Total_thumbsup', 'Reply'])\n",
    "spotify_df = spotify_df.rename(columns={'Review':'review', \n",
    "                           'Rating':'rating',\n",
    "                           'Total_thumbsup':'total_thumbs_up',\n",
    "                           'Reply':'reply'})"
   ]
  },
  {
   "cell_type": "code",
   "execution_count": 4,
   "id": "50e12ae5",
   "metadata": {},
   "outputs": [
    {
     "data": {
      "text/html": [
       "<div>\n",
       "<style scoped>\n",
       "    .dataframe tbody tr th:only-of-type {\n",
       "        vertical-align: middle;\n",
       "    }\n",
       "\n",
       "    .dataframe tbody tr th {\n",
       "        vertical-align: top;\n",
       "    }\n",
       "\n",
       "    .dataframe thead th {\n",
       "        text-align: right;\n",
       "    }\n",
       "</style>\n",
       "<table border=\"1\" class=\"dataframe\">\n",
       "  <thead>\n",
       "    <tr style=\"text-align: right;\">\n",
       "      <th></th>\n",
       "      <th>review</th>\n",
       "      <th>rating</th>\n",
       "      <th>total_thumbs_up</th>\n",
       "      <th>reply</th>\n",
       "    </tr>\n",
       "  </thead>\n",
       "  <tbody>\n",
       "    <tr>\n",
       "      <th>0</th>\n",
       "      <td>Great music service, the audio is high quality...</td>\n",
       "      <td>5</td>\n",
       "      <td>2</td>\n",
       "      <td>NaN</td>\n",
       "    </tr>\n",
       "    <tr>\n",
       "      <th>1</th>\n",
       "      <td>Please ignore previous negative rating. This a...</td>\n",
       "      <td>5</td>\n",
       "      <td>1</td>\n",
       "      <td>NaN</td>\n",
       "    </tr>\n",
       "    <tr>\n",
       "      <th>2</th>\n",
       "      <td>This pop-up \"Get the best Spotify experience o...</td>\n",
       "      <td>4</td>\n",
       "      <td>0</td>\n",
       "      <td>NaN</td>\n",
       "    </tr>\n",
       "    <tr>\n",
       "      <th>3</th>\n",
       "      <td>Really buggy and terrible to use as of recently</td>\n",
       "      <td>1</td>\n",
       "      <td>1</td>\n",
       "      <td>NaN</td>\n",
       "    </tr>\n",
       "    <tr>\n",
       "      <th>4</th>\n",
       "      <td>Dear Spotify why do I get songs that I didn't ...</td>\n",
       "      <td>1</td>\n",
       "      <td>1</td>\n",
       "      <td>NaN</td>\n",
       "    </tr>\n",
       "  </tbody>\n",
       "</table>\n",
       "</div>"
      ],
      "text/plain": [
       "                                              review  rating  total_thumbs_up  \\\n",
       "0  Great music service, the audio is high quality...       5                2   \n",
       "1  Please ignore previous negative rating. This a...       5                1   \n",
       "2  This pop-up \"Get the best Spotify experience o...       4                0   \n",
       "3    Really buggy and terrible to use as of recently       1                1   \n",
       "4  Dear Spotify why do I get songs that I didn't ...       1                1   \n",
       "\n",
       "  reply  \n",
       "0   NaN  \n",
       "1   NaN  \n",
       "2   NaN  \n",
       "3   NaN  \n",
       "4   NaN  "
      ]
     },
     "execution_count": 4,
     "metadata": {},
     "output_type": "execute_result"
    }
   ],
   "source": [
    "spotify_df.head()"
   ]
  },
  {
   "cell_type": "code",
   "execution_count": 5,
   "id": "9a3da5be",
   "metadata": {},
   "outputs": [
    {
     "name": "stdout",
     "output_type": "stream",
     "text": [
      "<class 'pandas.core.frame.DataFrame'>\n",
      "RangeIndex: 61594 entries, 0 to 61593\n",
      "Data columns (total 4 columns):\n",
      " #   Column           Non-Null Count  Dtype \n",
      "---  ------           --------------  ----- \n",
      " 0   review           61594 non-null  object\n",
      " 1   rating           61594 non-null  int64 \n",
      " 2   total_thumbs_up  61594 non-null  int64 \n",
      " 3   reply            216 non-null    object\n",
      "dtypes: int64(2), object(2)\n",
      "memory usage: 1.9+ MB\n"
     ]
    }
   ],
   "source": [
    "spotify_df.info()"
   ]
  },
  {
   "cell_type": "markdown",
   "id": "4c03e4b1",
   "metadata": {},
   "source": [
    "no NaN values in `review` column"
   ]
  },
  {
   "cell_type": "code",
   "execution_count": 6,
   "id": "71dce962",
   "metadata": {},
   "outputs": [
    {
     "data": {
      "text/plain": [
       "'\\n0 = did not reply \\n1 = replied\\n'"
      ]
     },
     "execution_count": 6,
     "metadata": {},
     "output_type": "execute_result"
    }
   ],
   "source": [
    "spotify_df['replied'] = spotify_df['reply'].notna().astype(int)\n",
    "'''\n",
    "0 = did not reply \n",
    "1 = replied\n",
    "'''"
   ]
  },
  {
   "cell_type": "code",
   "execution_count": 7,
   "id": "93ec4b64",
   "metadata": {},
   "outputs": [
    {
     "data": {
      "text/html": [
       "<div>\n",
       "<style scoped>\n",
       "    .dataframe tbody tr th:only-of-type {\n",
       "        vertical-align: middle;\n",
       "    }\n",
       "\n",
       "    .dataframe tbody tr th {\n",
       "        vertical-align: top;\n",
       "    }\n",
       "\n",
       "    .dataframe thead th {\n",
       "        text-align: right;\n",
       "    }\n",
       "</style>\n",
       "<table border=\"1\" class=\"dataframe\">\n",
       "  <thead>\n",
       "    <tr style=\"text-align: right;\">\n",
       "      <th></th>\n",
       "      <th>review</th>\n",
       "      <th>rating</th>\n",
       "      <th>total_thumbs_up</th>\n",
       "      <th>reply</th>\n",
       "      <th>replied</th>\n",
       "    </tr>\n",
       "  </thead>\n",
       "  <tbody>\n",
       "    <tr>\n",
       "      <th>73</th>\n",
       "      <td>Great song selection, amazing audio quality. H...</td>\n",
       "      <td>3</td>\n",
       "      <td>8</td>\n",
       "      <td>Hey, thanks for the feedback! We'd love to hel...</td>\n",
       "      <td>1</td>\n",
       "    </tr>\n",
       "    <tr>\n",
       "      <th>699</th>\n",
       "      <td>Seems like the random stopping of music has be...</td>\n",
       "      <td>4</td>\n",
       "      <td>4</td>\n",
       "      <td>Hey, thanks for the report. If you haven't tri...</td>\n",
       "      <td>1</td>\n",
       "    </tr>\n",
       "    <tr>\n",
       "      <th>1151</th>\n",
       "      <td>They would add their songs to MY PLAYLIST! I c...</td>\n",
       "      <td>1</td>\n",
       "      <td>1</td>\n",
       "      <td>Hey, thanks for the feedback! You can always a...</td>\n",
       "      <td>1</td>\n",
       "    </tr>\n",
       "    <tr>\n",
       "      <th>1277</th>\n",
       "      <td>I paid last month for Premium Family &amp; my wife...</td>\n",
       "      <td>5</td>\n",
       "      <td>0</td>\n",
       "      <td>Hi James! We’re sorry to hear that. We’d love ...</td>\n",
       "      <td>1</td>\n",
       "    </tr>\n",
       "    <tr>\n",
       "      <th>1668</th>\n",
       "      <td>I really don't care about the random pauses in...</td>\n",
       "      <td>3</td>\n",
       "      <td>0</td>\n",
       "      <td>Hi again. If you haven't tried Premium yet, we...</td>\n",
       "      <td>1</td>\n",
       "    </tr>\n",
       "    <tr>\n",
       "      <th>...</th>\n",
       "      <td>...</td>\n",
       "      <td>...</td>\n",
       "      <td>...</td>\n",
       "      <td>...</td>\n",
       "      <td>...</td>\n",
       "    </tr>\n",
       "    <tr>\n",
       "      <th>61116</th>\n",
       "      <td>Why can't you skip back without premium? Spoti...</td>\n",
       "      <td>4</td>\n",
       "      <td>3</td>\n",
       "      <td>Hey! Have you tried restarting your device or ...</td>\n",
       "      <td>1</td>\n",
       "    </tr>\n",
       "    <tr>\n",
       "      <th>61257</th>\n",
       "      <td>Ads are fine, if anything they're a necessity....</td>\n",
       "      <td>1</td>\n",
       "      <td>5</td>\n",
       "      <td>Hey, thanks for the feedback. Suggested tracks...</td>\n",
       "      <td>1</td>\n",
       "    </tr>\n",
       "    <tr>\n",
       "      <th>61374</th>\n",
       "      <td>Considering stopping my subscription due to th...</td>\n",
       "      <td>1</td>\n",
       "      <td>0</td>\n",
       "      <td>Hey! We'd love to help get this fixed. If you ...</td>\n",
       "      <td>1</td>\n",
       "    </tr>\n",
       "    <tr>\n",
       "      <th>61397</th>\n",
       "      <td>I am 100% sure this is the worst music app I e...</td>\n",
       "      <td>3</td>\n",
       "      <td>0</td>\n",
       "      <td>Hey! We're sorry to hear you feel that way abo...</td>\n",
       "      <td>1</td>\n",
       "    </tr>\n",
       "    <tr>\n",
       "      <th>61431</th>\n",
       "      <td>The app lies. I tried listening to an ad to ge...</td>\n",
       "      <td>1</td>\n",
       "      <td>1</td>\n",
       "      <td>Hey there. Just to check, did you keep the vid...</td>\n",
       "      <td>1</td>\n",
       "    </tr>\n",
       "  </tbody>\n",
       "</table>\n",
       "<p>216 rows × 5 columns</p>\n",
       "</div>"
      ],
      "text/plain": [
       "                                                  review  rating  \\\n",
       "73     Great song selection, amazing audio quality. H...       3   \n",
       "699    Seems like the random stopping of music has be...       4   \n",
       "1151   They would add their songs to MY PLAYLIST! I c...       1   \n",
       "1277   I paid last month for Premium Family & my wife...       5   \n",
       "1668   I really don't care about the random pauses in...       3   \n",
       "...                                                  ...     ...   \n",
       "61116  Why can't you skip back without premium? Spoti...       4   \n",
       "61257  Ads are fine, if anything they're a necessity....       1   \n",
       "61374  Considering stopping my subscription due to th...       1   \n",
       "61397  I am 100% sure this is the worst music app I e...       3   \n",
       "61431  The app lies. I tried listening to an ad to ge...       1   \n",
       "\n",
       "       total_thumbs_up                                              reply  \\\n",
       "73                   8  Hey, thanks for the feedback! We'd love to hel...   \n",
       "699                  4  Hey, thanks for the report. If you haven't tri...   \n",
       "1151                 1  Hey, thanks for the feedback! You can always a...   \n",
       "1277                 0  Hi James! We’re sorry to hear that. We’d love ...   \n",
       "1668                 0  Hi again. If you haven't tried Premium yet, we...   \n",
       "...                ...                                                ...   \n",
       "61116                3  Hey! Have you tried restarting your device or ...   \n",
       "61257                5  Hey, thanks for the feedback. Suggested tracks...   \n",
       "61374                0  Hey! We'd love to help get this fixed. If you ...   \n",
       "61397                0  Hey! We're sorry to hear you feel that way abo...   \n",
       "61431                1  Hey there. Just to check, did you keep the vid...   \n",
       "\n",
       "       replied  \n",
       "73           1  \n",
       "699          1  \n",
       "1151         1  \n",
       "1277         1  \n",
       "1668         1  \n",
       "...        ...  \n",
       "61116        1  \n",
       "61257        1  \n",
       "61374        1  \n",
       "61397        1  \n",
       "61431        1  \n",
       "\n",
       "[216 rows x 5 columns]"
      ]
     },
     "execution_count": 7,
     "metadata": {},
     "output_type": "execute_result"
    }
   ],
   "source": [
    "# viewing updated df \n",
    "spotify_df[spotify_df.replied == 1]"
   ]
  },
  {
   "cell_type": "code",
   "execution_count": 8,
   "id": "3188d66f",
   "metadata": {},
   "outputs": [
    {
     "data": {
      "text/plain": [
       "0        great music service, the audio is high quality...\n",
       "1        please ignore previous negative rating. this a...\n",
       "2        this pop-up \"get the best spotify experience o...\n",
       "3          really buggy and terrible to use as of recently\n",
       "4        dear spotify why do i get songs that i didn't ...\n",
       "                               ...                        \n",
       "61589    even though it was communicated that lyrics fe...\n",
       "61590    use to be sooo good back when i had it, and wh...\n",
       "61591    this app would be good if not for it taking ov...\n",
       "61592    the app is good hard to navigate and won't jus...\n",
       "61593    its good but sometimes it doesnt load the musi...\n",
       "Name: review, Length: 61594, dtype: object"
      ]
     },
     "execution_count": 8,
     "metadata": {},
     "output_type": "execute_result"
    }
   ],
   "source": [
    "# converting all review text to lowercase\n",
    "spotify_df.review = spotify_df.review.str.lower()\n",
    "spotify_df.review"
   ]
  },
  {
   "cell_type": "code",
   "execution_count": 9,
   "id": "382870a4",
   "metadata": {},
   "outputs": [],
   "source": [
    "import nltk\n",
    "from nltk.probability import FreqDist\n",
    "from nltk.corpus import stopwords\n",
    "from nltk.tokenize import regexp_tokenize, word_tokenize, RegexpTokenizer\n",
    "import matplotlib.pyplot as plt\n",
    "import string\n",
    "import re\n",
    "import numpy as np"
   ]
  },
  {
   "cell_type": "code",
   "execution_count": 10,
   "id": "5447c954",
   "metadata": {},
   "outputs": [],
   "source": [
    "from nltk.tokenize import word_tokenize # nltk's gold standard word tokenizer\n",
    "from nltk.tokenize import sent_tokenize # nltk's sentence tokenizer"
   ]
  },
  {
   "cell_type": "code",
   "execution_count": 11,
   "id": "8aa74ac1",
   "metadata": {},
   "outputs": [
    {
     "data": {
      "text/plain": [
       "'great music service, the audio is high quality and the app is easy to use. also very quick and friendly support.'"
      ]
     },
     "execution_count": 11,
     "metadata": {},
     "output_type": "execute_result"
    }
   ],
   "source": [
    "first_review = spotify_df.review.iloc[0]\n",
    "first_review"
   ]
  },
  {
   "cell_type": "code",
   "execution_count": 12,
   "id": "a4ed2a85",
   "metadata": {},
   "outputs": [
    {
     "name": "stdout",
     "output_type": "stream",
     "text": [
      "word tokenized method:\n",
      "['great', 'music', 'service', ',', 'the', 'audio', 'is', 'high', 'quality', 'and', 'the', 'app', 'is', 'easy', 'to', 'use', '.', 'also', 'very', 'quick', 'and', 'friendly', 'support', '.']\n",
      "\n",
      "\n",
      "sentence tokenizer method:\n",
      "['great music service, the audio is high quality and the app is easy to use.', 'also very quick and friendly support.']\n"
     ]
    }
   ],
   "source": [
    "# seeing different tokenizing methods \n",
    "print('word tokenized method:')\n",
    "print(word_tokenize(first_review,language='english'))\n",
    "print('\\n')\n",
    "print('sentence tokenizer method:')\n",
    "print(sent_tokenize(first_review,language='english'))"
   ]
  },
  {
   "cell_type": "code",
   "execution_count": 13,
   "id": "1a429058",
   "metadata": {},
   "outputs": [
    {
     "name": "stdout",
     "output_type": "stream",
     "text": [
      "[['great', 'music', 'service', ',', 'the', 'audio', 'is', 'high', 'quality', 'and', 'the', 'app', 'is', 'easy', 'to', 'use', '.'], ['also', 'very', 'quick', 'and', 'friendly', 'support', '.']]\n"
     ]
    }
   ],
   "source": [
    "print([word_tokenize(sent) for sent in sent_tokenize(first_review)])"
   ]
  },
  {
   "cell_type": "code",
   "execution_count": 14,
   "id": "007968c0",
   "metadata": {},
   "outputs": [
    {
     "name": "stdout",
     "output_type": "stream",
     "text": [
      "[['great', 'music', 'service', ',', 'the', 'audio', 'is', 'high', 'quality', 'and', 'the', 'app', 'is', 'easy', 'to', 'use', '.', 'also', 'very', 'quick', 'and', 'friendly', 'support', '.'], ['please', 'ignore', 'previous', 'negative', 'rating', '.', 'this', 'app', 'is', 'super', 'great', '.', 'i', 'give', 'it', 'five', 'stars+'], ['this', 'pop-up', '``', 'get', 'the', 'best', 'spotify', 'experience', 'on', 'android', '12', \"''\", 'is', 'too', 'annoying', '.', 'please', 'let', \"'s\", 'get', 'rid', 'of', 'this', '.'], ['really', 'buggy', 'and', 'terrible', 'to', 'use', 'as', 'of', 'recently']]\n"
     ]
    }
   ],
   "source": [
    "corpus = [word_tokenize(review) for review in spotify_df.review]\n",
    "print(corpus[0:4])"
   ]
  },
  {
   "cell_type": "code",
   "execution_count": 15,
   "id": "b34d319e",
   "metadata": {},
   "outputs": [],
   "source": [
    "import itertools"
   ]
  },
  {
   "cell_type": "code",
   "execution_count": 16,
   "id": "921947c2",
   "metadata": {},
   "outputs": [
    {
     "name": "stdout",
     "output_type": "stream",
     "text": [
      "(2148576,)\n"
     ]
    }
   ],
   "source": [
    "flattenedcorpus_tokens = pd.Series(list(itertools.chain(*corpus)))\n",
    "print(flattenedcorpus_tokens.shape)"
   ]
  },
  {
   "cell_type": "code",
   "execution_count": 17,
   "id": "f2c695ed",
   "metadata": {},
   "outputs": [
    {
     "name": "stdout",
     "output_type": "stream",
     "text": [
      "31505\n"
     ]
    }
   ],
   "source": [
    "dictionary = pd.Series(\n",
    "    flattenedcorpus_tokens.unique())\n",
    "print(len(dictionary))"
   ]
  },
  {
   "cell_type": "code",
   "execution_count": 18,
   "id": "0083a730",
   "metadata": {
    "scrolled": false
   },
   "outputs": [
    {
     "data": {
      "text/plain": [
       ".          93449\n",
       "i          79943\n",
       "the        72193\n",
       "to         67068\n",
       "it         57093\n",
       "and        48498\n",
       ",          45867\n",
       "app        35799\n",
       "a          33034\n",
       "is         30360\n",
       "music      25553\n",
       "n't        24349\n",
       "my         24018\n",
       "for        22766\n",
       "of         21841\n",
       "you        21242\n",
       "this       21076\n",
       "but        20646\n",
       "!          19338\n",
       "spotify    18985\n",
       "dtype: int64"
      ]
     },
     "execution_count": 18,
     "metadata": {},
     "output_type": "execute_result"
    }
   ],
   "source": [
    "flattenedcorpus_tokens.value_counts().head(20)"
   ]
  },
  {
   "cell_type": "code",
   "execution_count": 19,
   "id": "445c1faf",
   "metadata": {},
   "outputs": [
    {
     "data": {
      "text/plain": [
       "aapi                  1\n",
       "clickinv              1\n",
       "dipped                1\n",
       "'variety              1\n",
       "subsciption           1\n",
       "respot                1\n",
       "resson                1\n",
       "prob😕                 1\n",
       "shins                 1\n",
       "optionally            1\n",
       "algorithm-inserted    1\n",
       "noteworthy            1\n",
       "guees                 1\n",
       "similatso             1\n",
       "abouts                1\n",
       "studied               1\n",
       "good.but              1\n",
       "setings               1\n",
       "happenekg             1\n",
       "wifi/internet         1\n",
       "dtype: int64"
      ]
     },
     "execution_count": 19,
     "metadata": {},
     "output_type": "execute_result"
    }
   ],
   "source": [
    "flattenedcorpus_tokens.value_counts().tail(20)"
   ]
  },
  {
   "cell_type": "code",
   "execution_count": 20,
   "id": "8de54c14",
   "metadata": {},
   "outputs": [
    {
     "data": {
      "text/plain": [
       "24953"
      ]
     },
     "execution_count": 20,
     "metadata": {},
     "output_type": "execute_result"
    }
   ],
   "source": [
    "(flattenedcorpus_tokens.value_counts()<5).sum()"
   ]
  },
  {
   "cell_type": "code",
   "execution_count": 21,
   "id": "5542e71f",
   "metadata": {},
   "outputs": [
    {
     "data": {
      "text/plain": [
       "40         12\n",
       "171         6\n",
       "292         3\n",
       "295         1\n",
       "386       100\n",
       "         ... \n",
       "30834     105\n",
       "30942     967\n",
       "31123    1080\n",
       "31345    6000\n",
       "31371    2003\n",
       "Length: 244, dtype: object"
      ]
     },
     "execution_count": 21,
     "metadata": {},
     "output_type": "execute_result"
    }
   ],
   "source": [
    "dictionary[dictionary.str.isnumeric()]"
   ]
  },
  {
   "cell_type": "code",
   "execution_count": 22,
   "id": "8f29cd60",
   "metadata": {},
   "outputs": [],
   "source": [
    "from nltk.corpus import stopwords"
   ]
  },
  {
   "cell_type": "code",
   "execution_count": 23,
   "id": "e882fd9a",
   "metadata": {},
   "outputs": [],
   "source": [
    "stop_words = stopwords.words('english')"
   ]
  },
  {
   "cell_type": "code",
   "execution_count": 24,
   "id": "8ad21b45",
   "metadata": {},
   "outputs": [],
   "source": [
    "def first_step_normalizer(doc):\n",
    "    # filters for alphabetic (no punctuation or numbers) and filters out stop words. \n",
    "    # lower cases all tokens\n",
    "    norm_text = [x.lower() for x in word_tokenize(doc) if ((x.isalpha()) & (x.lower() not in stop_words)) ]\n",
    "    return norm_text"
   ]
  },
  {
   "cell_type": "code",
   "execution_count": 25,
   "id": "186d0cd2",
   "metadata": {},
   "outputs": [
    {
     "data": {
      "text/html": [
       "<div>\n",
       "<style scoped>\n",
       "    .dataframe tbody tr th:only-of-type {\n",
       "        vertical-align: middle;\n",
       "    }\n",
       "\n",
       "    .dataframe tbody tr th {\n",
       "        vertical-align: top;\n",
       "    }\n",
       "\n",
       "    .dataframe thead th {\n",
       "        text-align: right;\n",
       "    }\n",
       "</style>\n",
       "<table border=\"1\" class=\"dataframe\">\n",
       "  <thead>\n",
       "    <tr style=\"text-align: right;\">\n",
       "      <th></th>\n",
       "      <th>review</th>\n",
       "      <th>rating</th>\n",
       "      <th>total_thumbs_up</th>\n",
       "      <th>reply</th>\n",
       "      <th>replied</th>\n",
       "      <th>tok_norm</th>\n",
       "    </tr>\n",
       "  </thead>\n",
       "  <tbody>\n",
       "    <tr>\n",
       "      <th>0</th>\n",
       "      <td>great music service, the audio is high quality...</td>\n",
       "      <td>5</td>\n",
       "      <td>2</td>\n",
       "      <td>NaN</td>\n",
       "      <td>0</td>\n",
       "      <td>[great, music, service, audio, high, quality, ...</td>\n",
       "    </tr>\n",
       "    <tr>\n",
       "      <th>1</th>\n",
       "      <td>please ignore previous negative rating. this a...</td>\n",
       "      <td>5</td>\n",
       "      <td>1</td>\n",
       "      <td>NaN</td>\n",
       "      <td>0</td>\n",
       "      <td>[please, ignore, previous, negative, rating, a...</td>\n",
       "    </tr>\n",
       "    <tr>\n",
       "      <th>2</th>\n",
       "      <td>this pop-up \"get the best spotify experience o...</td>\n",
       "      <td>4</td>\n",
       "      <td>0</td>\n",
       "      <td>NaN</td>\n",
       "      <td>0</td>\n",
       "      <td>[get, best, spotify, experience, android, anno...</td>\n",
       "    </tr>\n",
       "    <tr>\n",
       "      <th>3</th>\n",
       "      <td>really buggy and terrible to use as of recently</td>\n",
       "      <td>1</td>\n",
       "      <td>1</td>\n",
       "      <td>NaN</td>\n",
       "      <td>0</td>\n",
       "      <td>[really, buggy, terrible, use, recently]</td>\n",
       "    </tr>\n",
       "    <tr>\n",
       "      <th>4</th>\n",
       "      <td>dear spotify why do i get songs that i didn't ...</td>\n",
       "      <td>1</td>\n",
       "      <td>1</td>\n",
       "      <td>NaN</td>\n",
       "      <td>0</td>\n",
       "      <td>[dear, spotify, get, songs, put, playlist, shu...</td>\n",
       "    </tr>\n",
       "  </tbody>\n",
       "</table>\n",
       "</div>"
      ],
      "text/plain": [
       "                                              review  rating  total_thumbs_up  \\\n",
       "0  great music service, the audio is high quality...       5                2   \n",
       "1  please ignore previous negative rating. this a...       5                1   \n",
       "2  this pop-up \"get the best spotify experience o...       4                0   \n",
       "3    really buggy and terrible to use as of recently       1                1   \n",
       "4  dear spotify why do i get songs that i didn't ...       1                1   \n",
       "\n",
       "  reply  replied                                           tok_norm  \n",
       "0   NaN        0  [great, music, service, audio, high, quality, ...  \n",
       "1   NaN        0  [please, ignore, previous, negative, rating, a...  \n",
       "2   NaN        0  [get, best, spotify, experience, android, anno...  \n",
       "3   NaN        0           [really, buggy, terrible, use, recently]  \n",
       "4   NaN        0  [dear, spotify, get, songs, put, playlist, shu...  "
      ]
     },
     "execution_count": 25,
     "metadata": {},
     "output_type": "execute_result"
    }
   ],
   "source": [
    "spotify_df['tok_norm'] = spotify_df.review.apply(first_step_normalizer)\n",
    "spotify_df.head()"
   ]
  },
  {
   "cell_type": "code",
   "execution_count": 26,
   "id": "954da375",
   "metadata": {},
   "outputs": [
    {
     "data": {
      "text/plain": [
       "['never',\n",
       " 'knew',\n",
       " 'app',\n",
       " 'till',\n",
       " 'friend',\n",
       " 'introduced',\n",
       " 'choose',\n",
       " 'whatever',\n",
       " 'want',\n",
       " 'thanks',\n",
       " 'friend',\n",
       " 'spotify',\n",
       " 'best',\n",
       " 'thing',\n",
       " 'ever',\n",
       " 'could',\n",
       " 'happened']"
      ]
     },
     "execution_count": 26,
     "metadata": {},
     "output_type": "execute_result"
    }
   ],
   "source": [
    "spotify_df.tok_norm[311]"
   ]
  },
  {
   "cell_type": "code",
   "execution_count": 27,
   "id": "d1f40056",
   "metadata": {},
   "outputs": [],
   "source": [
    "from nltk import WordNetLemmatizer # lemmatizer using WordNet\n",
    "from nltk.corpus import wordnet # imports WordNet\n",
    "from nltk import pos_tag # nltk's native part of speech tagging"
   ]
  },
  {
   "cell_type": "code",
   "execution_count": 28,
   "id": "01a76cf8",
   "metadata": {},
   "outputs": [],
   "source": [
    "# helper function to change nltk's part of speech tagging to a wordnet format.\n",
    "def pos_tagger(nltk_tag):\n",
    "    if nltk_tag.startswith('J'):\n",
    "        return wordnet.ADJ\n",
    "    elif nltk_tag.startswith('V'):\n",
    "        return wordnet.VERB\n",
    "    elif nltk_tag.startswith('N'):\n",
    "        return wordnet.NOUN\n",
    "    elif nltk_tag.startswith('R'):\n",
    "        return wordnet.ADV\n",
    "    else:         \n",
    "        return None"
   ]
  },
  {
   "cell_type": "code",
   "execution_count": 29,
   "id": "4348720e",
   "metadata": {},
   "outputs": [
    {
     "name": "stdout",
     "output_type": "stream",
     "text": [
      "[('great', 'a'), ('music', 'n'), ('service', 'n'), ('audio', 'r'), ('high', 'a'), ('quality', 'n'), ('app', 'v'), ('easy', 'a'), ('use', 'n'), ('also', 'r'), ('quick', 'r'), ('friendly', 'a'), ('support', 'n')]\n"
     ]
    }
   ],
   "source": [
    "first_review_tok = spotify_df.tok_norm.iloc[0]\n",
    "wordnet_tagged = list(map(lambda x: (x[0], pos_tagger(x[1])), pos_tag(first_review_tok))) \n",
    "print(wordnet_tagged)"
   ]
  },
  {
   "cell_type": "code",
   "execution_count": 30,
   "id": "65badcd1",
   "metadata": {},
   "outputs": [
    {
     "name": "stdout",
     "output_type": "stream",
     "text": [
      "['great', 'music', 'service', 'audio', 'high', 'quality', 'app', 'easy', 'use', 'also', 'quick', 'friendly', 'support']\n"
     ]
    }
   ],
   "source": [
    "wnl = WordNetLemmatizer()\n",
    "review_lemmatized = [wnl.lemmatize(token, pos) for token, pos in wordnet_tagged if pos is not None]\n",
    "print(review_lemmatized)"
   ]
  },
  {
   "cell_type": "code",
   "execution_count": 31,
   "id": "0c149ae1",
   "metadata": {},
   "outputs": [
    {
     "name": "stdout",
     "output_type": "stream",
     "text": [
      "['great', 'music', 'service', 'audio', 'high', 'quality', 'app', 'easy', 'use', 'also', 'quick', 'friendly', 'support']\n",
      "\n",
      "\n",
      "['great', 'music', 'service', 'audio', 'high', 'quality', 'app', 'easy', 'use', 'also', 'quick', 'friendly', 'support']\n"
     ]
    }
   ],
   "source": [
    "print(first_review_tok)\n",
    "print('\\n')\n",
    "print(review_lemmatized)"
   ]
  },
  {
   "cell_type": "code",
   "execution_count": 32,
   "id": "3089722b",
   "metadata": {},
   "outputs": [],
   "source": [
    "# takes in tokenized document and returns fully normalized token list\n",
    "def process_doc(doc):\n",
    "\n",
    "    #initialize lemmatizer\n",
    "    wnl = WordNetLemmatizer()\n",
    "\n",
    "    # helper function to change nltk's part of speech tagging to a wordnet format.\n",
    "    def pos_tagger(nltk_tag):\n",
    "        if nltk_tag.startswith('J'):\n",
    "            return wordnet.ADJ\n",
    "        elif nltk_tag.startswith('V'):\n",
    "            return wordnet.VERB\n",
    "        elif nltk_tag.startswith('N'):\n",
    "            return wordnet.NOUN\n",
    "        elif nltk_tag.startswith('R'):\n",
    "            return wordnet.ADV\n",
    "        else:         \n",
    "            return None\n",
    "        \n",
    "    \n",
    "    # creates list of tuples with tokens and POS tags in wordnet format\n",
    "    wordnet_tagged = list(map(lambda x: (x[0], pos_tagger(x[1])), pos_tag(doc))) \n",
    "    doc_norm = [wnl.lemmatize(token, pos) for token, pos in wordnet_tagged if pos is not None]\n",
    "    \n",
    "    return doc_norm"
   ]
  },
  {
   "cell_type": "code",
   "execution_count": 33,
   "id": "dee72e3f",
   "metadata": {},
   "outputs": [],
   "source": [
    "fully_normalized_corpus = spotify_df.tok_norm.apply(process_doc)"
   ]
  },
  {
   "cell_type": "code",
   "execution_count": 34,
   "id": "c2acb41f",
   "metadata": {},
   "outputs": [
    {
     "data": {
      "text/plain": [
       "19451"
      ]
     },
     "execution_count": 34,
     "metadata": {},
     "output_type": "execute_result"
    }
   ],
   "source": [
    "flattened_fully_norm = pd.Series(list(itertools.chain(*fully_normalized_corpus)))\n",
    "len(flattened_fully_norm.unique())"
   ]
  },
  {
   "cell_type": "code",
   "execution_count": 35,
   "id": "3496698d",
   "metadata": {},
   "outputs": [
    {
     "data": {
      "text/plain": [
       "31505"
      ]
     },
     "execution_count": 35,
     "metadata": {},
     "output_type": "execute_result"
    }
   ],
   "source": [
    "len(dictionary)"
   ]
  },
  {
   "cell_type": "code",
   "execution_count": 36,
   "id": "a8cb61b8",
   "metadata": {},
   "outputs": [
    {
     "data": {
      "text/plain": [
       "reached        1\n",
       "sop            1\n",
       "icebreaker     1\n",
       "mooder         1\n",
       "iove           1\n",
       "netweok        1\n",
       "vrey           1\n",
       "tgey           1\n",
       "premeim        1\n",
       "severally      1\n",
       "alo            1\n",
       "gradient       1\n",
       "preveiw        1\n",
       "vgood          1\n",
       "travellling    1\n",
       "goldan         1\n",
       "resistant      1\n",
       "bttr           1\n",
       "benwfitnit     1\n",
       "needy          1\n",
       "dtype: int64"
      ]
     },
     "execution_count": 36,
     "metadata": {},
     "output_type": "execute_result"
    }
   ],
   "source": [
    "flattened_fully_norm.value_counts().tail(20)"
   ]
  },
  {
   "cell_type": "code",
   "execution_count": 37,
   "id": "f3cdc503",
   "metadata": {},
   "outputs": [],
   "source": [
    "from spellchecker import SpellChecker"
   ]
  },
  {
   "cell_type": "code",
   "execution_count": 38,
   "id": "50084ff0",
   "metadata": {},
   "outputs": [],
   "source": [
    "from textblob import TextBlob"
   ]
  },
  {
   "cell_type": "code",
   "execution_count": 40,
   "id": "7bb2dca6",
   "metadata": {},
   "outputs": [],
   "source": [
    "misspelled_tokens = ['audio', 'quality', 'great', 'app', 'force', 'stop', 'middle', 'song', 'plus', 'tried', 'renew', 'subsciption', 'tried', 'force', 'buy', 'duo', 'make', 'new', 'account', 'hope', 'fixed']"
   ]
  },
  {
   "cell_type": "code",
   "execution_count": 41,
   "id": "08dc7546",
   "metadata": {},
   "outputs": [
    {
     "name": "stdout",
     "output_type": "stream",
     "text": [
      "{'subsciption'}\n"
     ]
    }
   ],
   "source": [
    "spell = SpellChecker()\n",
    "misspelled = spell.unknown(misspelled_tokens)\n",
    "print(misspelled)"
   ]
  },
  {
   "cell_type": "code",
   "execution_count": 42,
   "id": "782f5488",
   "metadata": {},
   "outputs": [
    {
     "name": "stdout",
     "output_type": "stream",
     "text": [
      "subscription\n"
     ]
    }
   ],
   "source": [
    "new_doc = TextBlob('subsciption')\n",
    "corrected = new_doc.correct()\n",
    "print(corrected)"
   ]
  },
  {
   "cell_type": "code",
   "execution_count": 43,
   "id": "88c51590",
   "metadata": {},
   "outputs": [
    {
     "data": {
      "text/html": [
       "<div>\n",
       "<style scoped>\n",
       "    .dataframe tbody tr th:only-of-type {\n",
       "        vertical-align: middle;\n",
       "    }\n",
       "\n",
       "    .dataframe tbody tr th {\n",
       "        vertical-align: top;\n",
       "    }\n",
       "\n",
       "    .dataframe thead th {\n",
       "        text-align: right;\n",
       "    }\n",
       "</style>\n",
       "<table border=\"1\" class=\"dataframe\">\n",
       "  <thead>\n",
       "    <tr style=\"text-align: right;\">\n",
       "      <th></th>\n",
       "      <th>review</th>\n",
       "      <th>rating</th>\n",
       "      <th>total_thumbs_up</th>\n",
       "      <th>reply</th>\n",
       "      <th>replied</th>\n",
       "      <th>tok_norm</th>\n",
       "    </tr>\n",
       "  </thead>\n",
       "  <tbody>\n",
       "    <tr>\n",
       "      <th>23736</th>\n",
       "      <td>the best app for playlist but worst while logi...</td>\n",
       "      <td>1</td>\n",
       "      <td>0</td>\n",
       "      <td>NaN</td>\n",
       "      <td>0</td>\n",
       "      <td>[best, app, playlist, worst, loging, everytime...</td>\n",
       "    </tr>\n",
       "  </tbody>\n",
       "</table>\n",
       "</div>"
      ],
      "text/plain": [
       "                                                  review  rating  \\\n",
       "23736  the best app for playlist but worst while logi...       1   \n",
       "\n",
       "       total_thumbs_up reply  replied  \\\n",
       "23736                0   NaN        0   \n",
       "\n",
       "                                                tok_norm  \n",
       "23736  [best, app, playlist, worst, loging, everytime...  "
      ]
     },
     "execution_count": 43,
     "metadata": {},
     "output_type": "execute_result"
    }
   ],
   "source": [
    "spotify_df[spotify_df.review.str.contains('prob😕')]"
   ]
  },
  {
   "cell_type": "code",
   "execution_count": 56,
   "id": "2046ad1d",
   "metadata": {},
   "outputs": [
    {
     "name": "stdout",
     "output_type": "stream",
     "text": [
      "# packages in environment at C:\\Users\\Kevin\\anaconda3\\envs\\duolingo-proj:\n",
      "#\n",
      "# Name                    Version                   Build  Channel\n",
      "aiofiles                  22.1.0          py311haa95532_0  \n",
      "aiosqlite                 0.18.0          py311haa95532_0  \n",
      "anyio                     3.5.0           py311haa95532_0  \n",
      "app-store-scraper         0.3.5                    pypi_0    pypi\n",
      "argon2-cffi               21.3.0             pyhd3eb1b0_0  \n",
      "argon2-cffi-bindings      21.2.0          py311h2bbff1b_0  \n",
      "asttokens                 2.0.5              pyhd3eb1b0_0  \n",
      "attrs                     22.1.0          py311haa95532_0  \n",
      "babel                     2.11.0          py311haa95532_0  \n",
      "backcall                  0.2.0              pyhd3eb1b0_0  \n",
      "beautifulsoup4            4.12.2          py311haa95532_0  \n",
      "blas                      1.0                         mkl  \n",
      "bleach                    4.1.0              pyhd3eb1b0_0  \n",
      "bottleneck                1.3.5           py311h5bb9823_0  \n",
      "brotlipy                  0.7.0           py311h2bbff1b_1002  \n",
      "bzip2                     1.0.8                he774522_0  \n",
      "ca-certificates           2023.05.30           haa95532_0  \n",
      "certifi                   2023.5.7        py311haa95532_0  \n",
      "cffi                      1.15.1          py311h2bbff1b_3  \n",
      "chardet                   3.0.4                    pypi_0    pypi\n",
      "charset-normalizer        2.0.4              pyhd3eb1b0_0  \n",
      "clean-text                0.6.0                    pypi_0    pypi\n",
      "click                     8.1.4                    pypi_0    pypi\n",
      "colorama                  0.4.6           py311haa95532_0  \n",
      "comm                      0.1.2           py311haa95532_0  \n",
      "cryptography              39.0.1          py311h21b164f_0  \n",
      "debugpy                   1.5.1           py311hd77b12b_0  \n",
      "decorator                 5.1.1              pyhd3eb1b0_0  \n",
      "defusedxml                0.7.1              pyhd3eb1b0_0  \n",
      "emoji                     1.7.0                    pypi_0    pypi\n",
      "entrypoints               0.4             py311haa95532_0  \n",
      "executing                 0.8.3              pyhd3eb1b0_0  \n",
      "ftfy                      6.1.1                    pypi_0    pypi\n",
      "giflib                    5.2.1                h8cc25b3_3  \n",
      "glib                      2.69.1               h5dc1a3c_2  \n",
      "google-play-scraper       1.2.4                    pypi_0    pypi\n",
      "gst-plugins-base          1.18.5               h9e645db_0  \n",
      "gstreamer                 1.18.5               hd78058f_0  \n",
      "icu                       58.2                 ha925a31_3  \n",
      "idna                      2.10                     pypi_0    pypi\n",
      "intel-openmp              2023.1.0         h59b6b97_46319  \n",
      "ipykernel                 6.19.2          py311h86cfffd_0  \n",
      "ipython                   8.12.0          py311haa95532_0  \n",
      "ipython_genutils          0.2.0              pyhd3eb1b0_1  \n",
      "ipywidgets                8.0.4           py311haa95532_0  \n",
      "jedi                      0.18.1          py311haa95532_1  \n",
      "jinja2                    3.1.2           py311haa95532_0  \n",
      "joblib                    1.3.1                    pypi_0    pypi\n",
      "jpeg                      9e                   h2bbff1b_1  \n",
      "json5                     0.9.6              pyhd3eb1b0_0  \n",
      "jsonschema                4.17.3          py311haa95532_0  \n",
      "jupyter                   1.0.0           py311haa95532_8  \n",
      "jupyter_client            8.1.0           py311haa95532_0  \n",
      "jupyter_console           6.6.3           py311haa95532_0  \n",
      "jupyter_core              5.3.0           py311haa95532_0  \n",
      "jupyter_events            0.6.3           py311haa95532_0  \n",
      "jupyter_server            2.5.0           py311haa95532_0  \n",
      "jupyter_server_fileid     0.9.0           py311haa95532_0  \n",
      "jupyter_server_terminals  0.4.4           py311haa95532_1  \n",
      "jupyter_server_ydoc       0.8.0           py311haa95532_1  \n",
      "jupyter_ydoc              0.2.4           py311haa95532_0  \n",
      "jupyterlab                3.6.3           py311haa95532_0  \n",
      "jupyterlab_pygments       0.1.2                      py_0  \n",
      "jupyterlab_server         2.22.0          py311haa95532_0  \n",
      "jupyterlab_widgets        3.0.5           py311haa95532_0  \n",
      "krb5                      1.19.4               h5b6d351_0  \n",
      "lerc                      3.0                  hd77b12b_0  \n",
      "libclang                  14.0.6          default_hb5a9fac_1  \n",
      "libclang13                14.0.6          default_h8e68704_1  \n",
      "libdeflate                1.17                 h2bbff1b_0  \n",
      "libffi                    3.4.4                hd77b12b_0  \n",
      "libiconv                  1.16                 h2bbff1b_2  \n",
      "libogg                    1.3.5                h2bbff1b_1  \n",
      "libpng                    1.6.39               h8cc25b3_0  \n",
      "libsodium                 1.0.18               h62dcd97_0  \n",
      "libtiff                   4.5.0                h6c2663c_2  \n",
      "libvorbis                 1.3.7                he774522_0  \n",
      "libwebp                   1.2.4                hbc33d0d_1  \n",
      "libwebp-base              1.2.4                h2bbff1b_1  \n",
      "libxml2                   2.10.3               h0ad7f3c_0  \n",
      "libxslt                   1.1.37               h2bbff1b_0  \n",
      "lxml                      4.9.2           py311h2bbff1b_0  \n",
      "lz4-c                     1.9.4                h2bbff1b_0  \n",
      "markupsafe                2.1.1           py311h2bbff1b_0  \n",
      "matplotlib-inline         0.1.6           py311haa95532_0  \n",
      "mistune                   0.8.4           py311h2bbff1b_1000  \n",
      "mkl                       2023.1.0         h8bd8f75_46356  \n",
      "mkl-service               2.4.0           py311h2bbff1b_1  \n",
      "mkl_fft                   1.3.6           py311hf62ec03_1  \n",
      "mkl_random                1.2.2           py311hf62ec03_1  \n",
      "nbclassic                 0.5.5           py311haa95532_0  \n",
      "nbclient                  0.5.13          py311haa95532_0  \n",
      "nbconvert                 6.5.4           py311haa95532_0  \n",
      "nbformat                  5.7.0           py311haa95532_0  \n",
      "nest-asyncio              1.5.6           py311haa95532_0  \n",
      "nltk                      3.8.1                    pypi_0    pypi\n",
      "notebook                  6.5.4           py311haa95532_0  \n",
      "notebook-shim             0.2.2           py311haa95532_0  \n",
      "numexpr                   2.8.4           py311h1fcbade_1  \n",
      "numpy                     1.25.0          py311hdab7c0b_0  \n",
      "numpy-base                1.25.0          py311hd01c5d8_0  \n",
      "openssl                   1.1.1u               h2bbff1b_0  \n",
      "packaging                 23.0            py311haa95532_0  \n",
      "pandas                    1.5.3           py311heda8569_0  \n",
      "pandocfilters             1.5.0              pyhd3eb1b0_0  \n",
      "parso                     0.8.3              pyhd3eb1b0_0  \n",
      "pcre                      8.45                 hd77b12b_0  \n",
      "pickleshare               0.7.5           pyhd3eb1b0_1003  \n",
      "pip                       23.1.2          py311haa95532_0  \n",
      "platformdirs              2.5.2           py311haa95532_0  \n",
      "ply                       3.11            py311haa95532_0  \n",
      "prometheus_client         0.14.1          py311haa95532_0  \n",
      "prompt-toolkit            3.0.36          py311haa95532_0  \n",
      "prompt_toolkit            3.0.36               hd3eb1b0_0  \n",
      "psutil                    5.9.0           py311h2bbff1b_0  \n",
      "pure_eval                 0.2.2              pyhd3eb1b0_0  \n",
      "pycparser                 2.21               pyhd3eb1b0_0  \n",
      "pygments                  2.15.1          py311haa95532_1  \n",
      "pyopenssl                 23.0.0          py311haa95532_0  \n",
      "pyqt                      5.15.7          py311hd77b12b_0  \n",
      "pyqt5-sip                 12.11.0         py311hd77b12b_0  \n",
      "pyrsistent                0.18.0          py311h2bbff1b_0  \n",
      "pysocks                   1.7.1           py311haa95532_0  \n",
      "python                    3.11.4               h966fe2a_0  \n",
      "python-dateutil           2.8.2              pyhd3eb1b0_0  \n",
      "python-fastjsonschema     2.16.2          py311haa95532_0  \n",
      "python-json-logger        2.0.7           py311haa95532_0  \n",
      "pytz                      2022.7          py311haa95532_0  \n",
      "pywin32                   305             py311h2bbff1b_0  \n",
      "pywinpty                  2.0.10          py311h5da7b33_0  \n",
      "pyyaml                    6.0             py311h2bbff1b_1  \n",
      "pyzmq                     25.1.0          py311hd77b12b_0  \n",
      "qt-main                   5.15.2               he8e5bd7_8  \n",
      "qt-webengine              5.15.9               hb9a9bb5_5  \n",
      "qtconsole                 5.4.2           py311haa95532_0  \n",
      "qtpy                      2.2.0           py311haa95532_0  \n",
      "qtwebkit                  5.212                h2bbfb41_5  \n",
      "regex                     2023.6.3                 pypi_0    pypi\n",
      "requests                  2.23.0                   pypi_0    pypi\n",
      "rfc3339-validator         0.1.4           py311haa95532_0  \n",
      "rfc3986-validator         0.1.1           py311haa95532_0  \n",
      "send2trash                1.8.0              pyhd3eb1b0_1  \n",
      "setuptools                67.8.0          py311haa95532_0  \n",
      "sip                       6.6.2           py311hd77b12b_0  \n",
      "six                       1.16.0             pyhd3eb1b0_1  \n",
      "sniffio                   1.2.0           py311haa95532_1  \n",
      "soupsieve                 2.4             py311haa95532_0  \n",
      "sqlite                    3.41.2               h2bbff1b_0  \n",
      "stack_data                0.2.0              pyhd3eb1b0_0  \n",
      "tbb                       2021.8.0             h59b6b97_0  \n",
      "terminado                 0.17.1          py311haa95532_0  \n",
      "tinycss2                  1.2.1           py311haa95532_0  \n",
      "tk                        8.6.12               h2bbff1b_0  \n",
      "toml                      0.10.2             pyhd3eb1b0_0  \n",
      "tornado                   6.2             py311h2bbff1b_0  \n",
      "tqdm                      4.65.0                   pypi_0    pypi\n",
      "traitlets                 5.7.1           py311haa95532_0  \n",
      "typing-extensions         4.6.3           py311haa95532_0  \n",
      "typing_extensions         4.6.3           py311haa95532_0  \n",
      "tzdata                    2023c                h04d1e81_0  \n",
      "unidecode                 1.3.6                    pypi_0    pypi\n",
      "urllib3                   1.25.11                  pypi_0    pypi\n",
      "vc                        14.2                 h21ff451_1  \n",
      "vs2015_runtime            14.27.29016          h5e58377_2  \n",
      "wcwidth                   0.2.5              pyhd3eb1b0_0  \n",
      "webencodings              0.5.1           py311haa95532_1  \n",
      "websocket-client          0.58.0          py311haa95532_4  \n",
      "wheel                     0.38.4          py311haa95532_0  \n",
      "widgetsnbextension        4.0.5           py311haa95532_0  \n",
      "win_inet_pton             1.1.0           py311haa95532_0  \n",
      "winpty                    0.4.3                         4  \n",
      "xz                        5.4.2                h8cc25b3_0  \n",
      "y-py                      0.5.9           py311hb6bf4ef_0  \n",
      "yaml                      0.2.5                he774522_0  \n",
      "ypy-websocket             0.8.2           py311haa95532_0  \n",
      "zeromq                    4.3.4                hd77b12b_0  \n",
      "zlib                      1.2.13               h8cc25b3_0  \n",
      "zstd                      1.5.5                hd43e919_0  \n"
     ]
    }
   ],
   "source": []
  },
  {
   "cell_type": "code",
   "execution_count": null,
   "id": "e6016a7b",
   "metadata": {},
   "outputs": [],
   "source": []
  }
 ],
 "metadata": {
  "kernelspec": {
   "display_name": "Python(flatiron-project)",
   "language": "python",
   "name": "flatiron-project"
  },
  "language_info": {
   "codemirror_mode": {
    "name": "ipython",
    "version": 3
   },
   "file_extension": ".py",
   "mimetype": "text/x-python",
   "name": "python",
   "nbconvert_exporter": "python",
   "pygments_lexer": "ipython3",
   "version": "3.9.16"
  }
 },
 "nbformat": 4,
 "nbformat_minor": 5
}
